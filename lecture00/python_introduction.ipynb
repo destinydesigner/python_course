{
 "cells": [
  {
   "cell_type": "markdown",
   "metadata": {
    "slideshow": {
     "slide_type": "slide"
    }
   },
   "source": [
    "# Python Introduction"
   ]
  },
  {
   "cell_type": "markdown",
   "metadata": {
    "slideshow": {
     "slide_type": "slide"
    }
   },
   "source": [
    "## Prerequisite\n",
    "\n",
    "- C programming basics\n",
    "- Python syntax basics\n",
    "- Fundamental programming language concepts\n",
    "    \n",
    "    - syntax and semantics\n",
    "    - typing system\n",
    "    - programming paradigms"
   ]
  },
  {
   "cell_type": "markdown",
   "metadata": {
    "slideshow": {
     "slide_type": "slide"
    }
   },
   "source": [
    "## Python Test\n"
   ]
  },
  {
   "cell_type": "markdown",
   "metadata": {
    "slideshow": {
     "slide_type": "subslide"
    }
   },
   "source": [
    "### Question 1 - What's the output?"
   ]
  },
  {
   "cell_type": "code",
   "execution_count": 62,
   "metadata": {
    "slideshow": {
     "slide_type": "-"
    }
   },
   "outputs": [
    {
     "name": "stdout",
     "output_type": "stream",
     "text": [
      "10\n"
     ]
    }
   ],
   "source": [
    "x = 1\n",
    "\n",
    "def foo():\n",
    "    print(x)\n",
    "    \n",
    "x = 10\n",
    "\n",
    "foo()"
   ]
  },
  {
   "cell_type": "markdown",
   "metadata": {
    "slideshow": {
     "slide_type": "subslide"
    }
   },
   "source": [
    "### Question 2 - What's the output?"
   ]
  },
  {
   "cell_type": "code",
   "execution_count": 63,
   "metadata": {
    "slideshow": {
     "slide_type": "-"
    }
   },
   "outputs": [
    {
     "name": "stdout",
     "output_type": "stream",
     "text": [
      "[5]\n",
      "[5, 5]\n"
     ]
    }
   ],
   "source": [
    "def a():\n",
    "    return []\n",
    "    \n",
    "def b(x=a()):\n",
    "    x.append(5)\n",
    "    print(x)\n",
    "    \n",
    "b()\n",
    "b()"
   ]
  },
  {
   "cell_type": "markdown",
   "metadata": {
    "slideshow": {
     "slide_type": "subslide"
    }
   },
   "source": [
    "### Question 3 - What's the output?"
   ]
  },
  {
   "cell_type": "markdown",
   "metadata": {
    "slideshow": {
     "slide_type": "-"
    }
   },
   "source": [
    "```python\n",
    "# q3/a.py\n",
    "print(__name__)\n",
    "import q3.a\n",
    "import q3.b\n",
    "```"
   ]
  },
  {
   "cell_type": "markdown",
   "metadata": {
    "slideshow": {
     "slide_type": "-"
    }
   },
   "source": [
    "```python\n",
    "# q3/b.py\n",
    "print(__name__)\n",
    "import q3.a\n",
    "```"
   ]
  },
  {
   "cell_type": "code",
   "execution_count": 76,
   "metadata": {
    "slideshow": {
     "slide_type": "subslide"
    }
   },
   "outputs": [
    {
     "name": "stdout",
     "output_type": "stream",
     "text": [
      "__main__\n",
      "a\n",
      "b\n",
      "\n"
     ]
    }
   ],
   "source": [
    "# run as shell command `python q3/a.py`\n",
    "import subprocess\n",
    "print(subprocess.check_output(\"python q3/a.py; exit 0\", shell=True, stderr=subprocess.STDOUT))"
   ]
  },
  {
   "cell_type": "markdown",
   "metadata": {
    "slideshow": {
     "slide_type": "subslide"
    }
   },
   "source": [
    "### Question 4 - What's the output?"
   ]
  },
  {
   "cell_type": "markdown",
   "metadata": {},
   "source": [
    "```python\n",
    "# q4/a.py\n",
    "print(__name__)\n",
    "import q4.a\n",
    "import q4.b\n",
    "```"
   ]
  },
  {
   "cell_type": "markdown",
   "metadata": {},
   "source": [
    "```python\n",
    "# q4/b.py\n",
    "print(__name__)\n",
    "from q4.a import b\n",
    "```"
   ]
  },
  {
   "cell_type": "code",
   "execution_count": 77,
   "metadata": {
    "slideshow": {
     "slide_type": "subslide"
    }
   },
   "outputs": [
    {
     "name": "stdout",
     "output_type": "stream",
     "text": [
      "__main__\n",
      "a\n",
      "b\n",
      "Traceback (most recent call last):\n",
      "  File \"q4/a.py\", line 2, in <module>\n",
      "    import a\n",
      "  File \"/Users/fanggj/gitrepo/LC102-Python/lecture00/q4/a.py\", line 3, in <module>\n",
      "    import b\n",
      "  File \"/Users/fanggj/gitrepo/LC102-Python/lecture00/q4/b.py\", line 2, in <module>\n",
      "    from a import b\n",
      "ImportError: cannot import name b\n",
      "\n"
     ]
    }
   ],
   "source": [
    "# run as shell command `python q4/a.py`\n",
    "import subprocess\n",
    "print(subprocess.check_output(\"python q4/a.py; exit 0\", shell=True, stderr=subprocess.STDOUT))"
   ]
  },
  {
   "cell_type": "markdown",
   "metadata": {
    "slideshow": {
     "slide_type": "subslide"
    }
   },
   "source": [
    "### Question 5 - What's the output?"
   ]
  },
  {
   "cell_type": "code",
   "execution_count": 78,
   "metadata": {},
   "outputs": [
    {
     "name": "stdout",
     "output_type": "stream",
     "text": [
      "<type 'function'>\n",
      "<type 'int'>\n",
      "<type 'instancemethod'>\n",
      "<type 'function'>\n",
      "<type 'instancemethod'>\n"
     ]
    }
   ],
   "source": [
    "def foo(*args, **kwargs): pass\n",
    "    \n",
    "class A(object):\n",
    "    foo = 1\n",
    "\n",
    "print(type(foo))\n",
    "\n",
    "a = A()\n",
    "print(type(a.foo))\n",
    "\n",
    "A.foo = foo\n",
    "print(type(a.foo))\n",
    "\n",
    "a.foo = foo\n",
    "print(type(a.foo))\n",
    "print(type(A.foo))"
   ]
  },
  {
   "cell_type": "markdown",
   "metadata": {
    "slideshow": {
     "slide_type": "subslide"
    }
   },
   "source": [
    "### Python Test Review\n"
   ]
  },
  {
   "cell_type": "code",
   "execution_count": null,
   "metadata": {
    "slideshow": {
     "slide_type": "-"
    }
   },
   "outputs": [],
   "source": [
    "(0, 'Please take this course.')\n",
    "(1, 'Please take this course.')\n",
    "(2, 'You can be benefited from this course.')\n",
    "(3, 'You can be benefited from this course.')\n",
    "(4, 'You can be benefited from this course.')\n",
    "(5, 'Pretty good!')"
   ]
  },
  {
   "cell_type": "markdown",
   "metadata": {
    "slideshow": {
     "slide_type": "slide"
    }
   },
   "source": [
    "## Agenda\n",
    "\n",
    "- Overview\n",
    "- How Python runs programs\n",
    "- Essentials"
   ]
  },
  {
   "cell_type": "markdown",
   "metadata": {
    "slideshow": {
     "slide_type": "slide"
    }
   },
   "source": [
    "## Overview"
   ]
  },
  {
   "cell_type": "markdown",
   "metadata": {
    "slideshow": {
     "slide_type": "subslide"
    }
   },
   "source": [
    "### Language Perspective"
   ]
  },
  {
   "cell_type": "markdown",
   "metadata": {
    "slideshow": {
     "slide_type": "fragment"
    }
   },
   "source": [
    "- Interpreted language (Interpreter)"
   ]
  },
  {
   "cell_type": "markdown",
   "metadata": {
    "slideshow": {
     "slide_type": "fragment"
    }
   },
   "source": [
    "- Readability (Syntax & Pythonic style)"
   ]
  },
  {
   "cell_type": "markdown",
   "metadata": {
    "slideshow": {
     "slide_type": "fragment"
    }
   },
   "source": [
    "- Strong, dynamic & duck typing"
   ]
  },
  {
   "cell_type": "markdown",
   "metadata": {
    "slideshow": {
     "slide_type": "fragment"
    }
   },
   "source": [
    "- Multiple paradigms (OO, procedural, functional)"
   ]
  },
  {
   "cell_type": "markdown",
   "metadata": {
    "slideshow": {
     "slide_type": "fragment"
    }
   },
   "source": [
    "- Memory management (GC, Reference counting and so on)"
   ]
  },
  {
   "cell_type": "markdown",
   "metadata": {
    "slideshow": {
     "slide_type": "notes"
    }
   },
   "source": [
    "With normal typing, suitability is assumed to be determined by an object's type only. In duck typing, an object's suitability is determined by the presence of certain methods and properties (with appropriate meaning), rather than the actual type of the object."
   ]
  },
  {
   "cell_type": "markdown",
   "metadata": {
    "slideshow": {
     "slide_type": "subslide"
    }
   },
   "source": [
    "### Implementations\n",
    "- CPython\n",
    "- PyPy\n",
    "- Jython\n",
    "- IronPython\n"
   ]
  },
  {
   "cell_type": "markdown",
   "metadata": {
    "slideshow": {
     "slide_type": "subslide"
    }
   },
   "source": [
    "### Versions\n",
    "- There are Python2 and Python3\n",
    "- They are incompatible.\n",
    "- Fundamental changes:\n",
    "    \n",
    "    - some syntax ('print', 'yield from' ...)\n",
    "    - implementation details (str, bound methods, dictionary view object …)\n",
    "    - ...\n"
   ]
  },
  {
   "cell_type": "markdown",
   "metadata": {
    "slideshow": {
     "slide_type": "notes"
    }
   },
   "source": [
    "str and unicode\n",
    "In February 1991, the code(labeled version 0.9.0) of CPython was published.\n",
    "In October 1991, the first volume of the Unicode standard was published."
   ]
  },
  {
   "cell_type": "markdown",
   "metadata": {
    "slideshow": {
     "slide_type": "subslide"
    }
   },
   "source": [
    "### Philosophy"
   ]
  },
  {
   "cell_type": "code",
   "execution_count": null,
   "metadata": {
    "slideshow": {
     "slide_type": "-"
    }
   },
   "outputs": [],
   "source": [
    "import this"
   ]
  },
  {
   "cell_type": "markdown",
   "metadata": {
    "slideshow": {
     "slide_type": "slide"
    }
   },
   "source": [
    "## How Python runs programs"
   ]
  },
  {
   "cell_type": "markdown",
   "metadata": {
    "slideshow": {
     "slide_type": "subslide"
    }
   },
   "source": [
    "![how python runs programs](images/illustration1.png \"How Python runs programs\")"
   ]
  },
  {
   "cell_type": "markdown",
   "metadata": {
    "slideshow": {
     "slide_type": "subslide"
    }
   },
   "source": [
    "### Essential concepts\n",
    "\n",
    "- Execution model\n",
    "    - Code Blocks\n",
    "    - Execution Frame\n",
    "    - Name\n",
    "    - Scope\n",
    "\n",
    "- Top-level components\n"
   ]
  },
  {
   "cell_type": "markdown",
   "metadata": {
    "slideshow": {
     "slide_type": "slide"
    }
   },
   "source": [
    "## Code blocks"
   ]
  },
  {
   "cell_type": "markdown",
   "metadata": {
    "slideshow": {
     "slide_type": "subslide"
    }
   },
   "source": [
    "### Definition in natural language\n",
    "\n",
    "A <em style=\"color: blue\">block</em> is a piece of Python program text that is executed as a unit."
   ]
  },
  {
   "cell_type": "markdown",
   "metadata": {
    "slideshow": {
     "slide_type": "fragment"
    }
   },
   "source": [
    "The following are blocks:\n",
    "- a module,\n",
    "- a function body,\n",
    "- a class definition,\n",
    "- each command typed interactively,\n",
    "- a script file (standard input or command line argument),\n",
    "- a script command('-c' option),\n",
    "- a string argument passed to the built-in functions eval() and exec(),\n",
    "- an expression read and evaluated by the built-in function input()."
   ]
  },
  {
   "cell_type": "markdown",
   "metadata": {
    "slideshow": {
     "slide_type": "subslide"
    }
   },
   "source": [
    "### Definition in C programming language\n",
    "\n",
    "```C\n",
    "// https://github.com/python/cpython/blob/2.7/Include/code.h#L9\n",
    "typedef struct {\n",
    "    PyObject_HEAD\n",
    "    int co_argcount;        /* #arguments, except *args */\n",
    "    int co_nlocals;     /* #local variables */\n",
    "    int co_stacksize;       /* #entries needed for evaluation stack */\n",
    "    int co_flags;       /* CO_..., see below */\n",
    "    PyObject *co_code;      /* instruction opcodes */\n",
    "    PyObject *co_consts;    /* list (constants used) */\n",
    "    PyObject *co_names;     /* list of strings (names used) */\n",
    "    PyObject *co_varnames;  /* tuple of strings (local variable names) */\n",
    "    PyObject *co_freevars;  /* tuple of strings (free variable names) */\n",
    "    PyObject *co_cellvars;      /* tuple of strings (cell variable names) */\n",
    "    /* The rest doesn't count for hash/cmp */\n",
    "    PyObject *co_filename;  /* string (where it was loaded from) */\n",
    "    PyObject *co_name;      /* string (name, for reference) */\n",
    "    int co_firstlineno;     /* first source line number */\n",
    "    PyObject *co_lnotab;    /* string (encoding addr<->lineno mapping) See Objects/lnotab_notes.txt for details. */\n",
    "    void *co_zombieframe;     /* for optimization only (see frameobject.c) */\n",
    "    PyObject *co_weakreflist;   /* to support weakrefs to code objects */\n",
    "} PyCodeObject;\n",
    "```"
   ]
  },
  {
   "cell_type": "markdown",
   "metadata": {
    "slideshow": {
     "slide_type": "subslide"
    }
   },
   "source": [
    "### Examples"
   ]
  },
  {
   "cell_type": "markdown",
   "metadata": {
    "slideshow": {
     "slide_type": "fragment"
    }
   },
   "source": [
    "https://stackoverflow.com/questions/12673074/how-should-i-understand-the-output-of-dis-dis"
   ]
  },
  {
   "cell_type": "markdown",
   "metadata": {
    "slideshow": {
     "slide_type": "notes"
    }
   },
   "source": [
    "```python\n",
    "# code_block/mymodule.py\n",
    "class A(object):\n",
    "    bar = 1\n",
    "\n",
    "\n",
    "def fib(n):\n",
    "    if n <= 1:\n",
    "        return 1\n",
    "    result = fib(n-1) + fib(n-2)\n",
    "    return result\n",
    "\n",
    "\n",
    "def decorator(func):\n",
    "    x = 10\n",
    "    def inner(*args, **kwargs):\n",
    "        print(x)\n",
    "        return func(*args, **kwargs)\n",
    "    return inner\n",
    "\n",
    "\n",
    "x = 1\n",
    "```"
   ]
  },
  {
   "cell_type": "code",
   "execution_count": 107,
   "metadata": {
    "scrolled": true,
    "slideshow": {
     "slide_type": "subslide"
    }
   },
   "outputs": [
    {
     "name": "stdout",
     "output_type": "stream",
     "text": [
      "  1           0 LOAD_CONST               0 ('A')\n",
      "              3 LOAD_NAME                0 (object)\n",
      "              6 BUILD_TUPLE              1\n",
      "              9 LOAD_CONST               1 (<code object A at 0x106407830, file \"code_block/mymodule.py\", line 1>)\n",
      "             12 MAKE_FUNCTION            0\n",
      "             15 CALL_FUNCTION            0\n",
      "             18 BUILD_CLASS         \n",
      "             19 STORE_NAME               1 (A)\n",
      "\n",
      "  5          22 LOAD_CONST               2 (<code object fib at 0x10675c2b0, file \"code_block/mymodule.py\", line 5>)\n",
      "             25 MAKE_FUNCTION            0\n",
      "             28 STORE_NAME               2 (fib)\n",
      "\n",
      " 12          31 LOAD_CONST               3 (<code object decorator at 0x10675c8b0, file \"code_block/mymodule.py\", line 12>)\n",
      "             34 MAKE_FUNCTION            0\n",
      "             37 STORE_NAME               3 (decorator)\n",
      "\n",
      " 20          40 LOAD_CONST               4 (1)\n",
      "             43 STORE_NAME               4 (x)\n",
      "             46 LOAD_CONST               5 (None)\n",
      "             49 RETURN_VALUE        \n"
     ]
    }
   ],
   "source": [
    "# code object of a module\n",
    "import sys\n",
    "from code_block import mymodule\n",
    "mymodule??\n",
    "\n",
    "import helper\n",
    "# Python 3.6: code_block/__pycache__/mymodule.cpython-36.pyc\n",
    "# Python 2.x: code_block/mymodule.pyc\n",
    "pycfile = 'code_block/mymodule.pyc' if sys.version_info[0] <=2 else 'code_block/__pycache__/mymodule.cpython-36.pyc'\n",
    "module_code = helper.load_code_object_from_pyc(pycfile)\n",
    "\n",
    "import dis\n",
    "dis.dis(module_code)"
   ]
  },
  {
   "cell_type": "code",
   "execution_count": 66,
   "metadata": {
    "slideshow": {
     "slide_type": "subslide"
    }
   },
   "outputs": [
    {
     "name": "stdout",
     "output_type": "stream",
     "text": [
      "  6           0 LOAD_FAST                0 (n)\n",
      "              3 LOAD_CONST               1 (1)\n",
      "              6 COMPARE_OP               1 (<=)\n",
      "              9 POP_JUMP_IF_FALSE       16\n",
      "\n",
      "  7          12 LOAD_CONST               1 (1)\n",
      "             15 RETURN_VALUE        \n",
      "\n",
      "  8     >>   16 LOAD_GLOBAL              0 (fib)\n",
      "             19 LOAD_FAST                0 (n)\n",
      "             22 LOAD_CONST               1 (1)\n",
      "             25 BINARY_SUBTRACT     \n",
      "             26 CALL_FUNCTION            1\n",
      "             29 LOAD_GLOBAL              0 (fib)\n",
      "             32 LOAD_FAST                0 (n)\n",
      "             35 LOAD_CONST               2 (2)\n",
      "             38 BINARY_SUBTRACT     \n",
      "             39 CALL_FUNCTION            1\n",
      "             42 BINARY_ADD          \n",
      "             43 STORE_FAST               1 (result)\n",
      "\n",
      "  9          46 LOAD_FAST                1 (result)\n",
      "             49 RETURN_VALUE        \n"
     ]
    }
   ],
   "source": [
    "# code object of a function\n",
    "dis.dis(mymodule.fib.__code__)"
   ]
  },
  {
   "cell_type": "code",
   "execution_count": 67,
   "metadata": {
    "slideshow": {
     "slide_type": "subslide"
    }
   },
   "outputs": [
    {
     "name": "stdout",
     "output_type": "stream",
     "text": [
      " 13           0 LOAD_CONST               1 (10)\n",
      "              3 STORE_DEREF              1 (x)\n",
      "\n",
      " 14           6 LOAD_CLOSURE             0 (func)\n",
      "              9 LOAD_CLOSURE             1 (x)\n",
      "             12 BUILD_TUPLE              2\n",
      "             15 LOAD_CONST               2 (<code object inner at 0x106659ab0, file \"code_block/mymodule.py\", line 14>)\n",
      "             18 MAKE_CLOSURE             0\n",
      "             21 STORE_FAST               1 (inner)\n",
      "\n",
      " 17          24 LOAD_FAST                1 (inner)\n",
      "             27 RETURN_VALUE        \n"
     ]
    }
   ],
   "source": [
    "# code object of a function\n",
    "dis.dis(mymodule.decorator.__code__)"
   ]
  },
  {
   "cell_type": "code",
   "execution_count": 69,
   "metadata": {
    "slideshow": {
     "slide_type": "subslide"
    }
   },
   "outputs": [
    {
     "name": "stdout",
     "output_type": "stream",
     "text": [
      " 15           0 LOAD_DEREF               1 (x)\n",
      "              3 PRINT_ITEM          \n",
      "              4 PRINT_NEWLINE       \n",
      "\n",
      " 16           5 LOAD_DEREF               0 (func)\n",
      "              8 LOAD_FAST                0 (args)\n",
      "             11 LOAD_FAST                1 (kwargs)\n",
      "             14 CALL_FUNCTION_VAR_KW     0\n",
      "             17 RETURN_VALUE        \n"
     ]
    }
   ],
   "source": [
    "# code object of a function\n",
    "inner_code = helper.get_object_by_id( ... )\n",
    "dis.dis(inner_code)"
   ]
  },
  {
   "cell_type": "code",
   "execution_count": 70,
   "metadata": {
    "slideshow": {
     "slide_type": "subslide"
    }
   },
   "outputs": [
    {
     "name": "stdout",
     "output_type": "stream",
     "text": [
      "  1           0 LOAD_NAME                0 (__name__)\n",
      "              3 STORE_NAME               1 (__module__)\n",
      "\n",
      "  2           6 LOAD_CONST               0 (1)\n",
      "              9 STORE_NAME               2 (bar)\n",
      "             12 LOAD_LOCALS         \n",
      "             13 RETURN_VALUE        \n"
     ]
    }
   ],
   "source": [
    "# code object of a class\n",
    "class_code = helper.get_object_by_id( ... )\n",
    "dis.dis(class_code)"
   ]
  },
  {
   "cell_type": "markdown",
   "metadata": {
    "slideshow": {
     "slide_type": "subslide"
    }
   },
   "source": [
    "### Naming and binding\n",
    "\n",
    "Names refer to objects. Names are introduced by name binding operations.\n"
   ]
  },
  {
   "cell_type": "markdown",
   "metadata": {
    "slideshow": {
     "slide_type": "fragment"
    }
   },
   "source": [
    "The following constructs bind names:\n",
    "- formal parameters to functions,\n",
    "- import statements,\n",
    "- class and function definitions,\n",
    "- and targets that are identifiers if occuring in an assignment,\n",
    "- for loop header,\n",
    "- or after as in a with statement or except clause."
   ]
  },
  {
   "cell_type": "markdown",
   "metadata": {
    "slideshow": {
     "slide_type": "subslide"
    }
   },
   "source": [
    "### Examples"
   ]
  },
  {
   "cell_type": "code",
   "execution_count": 71,
   "metadata": {
    "slideshow": {
     "slide_type": "subslide"
    }
   },
   "outputs": [
    {
     "name": "stdout",
     "output_type": "stream",
     "text": [
      "{'co_cellvars': (),\n",
      " 'co_consts': ('A',\n",
      "               <code object A at 0x10675c6b0, file \"code_block/mymodule.py\", line 1>,\n",
      "               <code object fib at 0x10675c2b0, file \"code_block/mymodule.py\", line 5>,\n",
      "               <code object decorator at 0x10675c730, file \"code_block/mymodule.py\", line 12>,\n",
      "               1,\n",
      "               None),\n",
      " 'co_freevars': (),\n",
      " 'co_names': ('object', 'A', 'fib', 'decorator', 'x'),\n",
      " 'co_varnames': ()}\n"
     ]
    }
   ],
   "source": [
    "helper.print_code_names(module_code)"
   ]
  },
  {
   "cell_type": "code",
   "execution_count": 75,
   "metadata": {
    "slideshow": {
     "slide_type": "subslide"
    }
   },
   "outputs": [
    {
     "name": "stdout",
     "output_type": "stream",
     "text": [
      "{'co_cellvars': (),\n",
      " 'co_consts': (None, 1, 2),\n",
      " 'co_freevars': (),\n",
      " 'co_names': ('fib',),\n",
      " 'co_varnames': ('n', 'result')}\n"
     ]
    }
   ],
   "source": [
    "helper.print_code_names(mymodule.fib.__code__)"
   ]
  },
  {
   "cell_type": "code",
   "execution_count": null,
   "metadata": {
    "slideshow": {
     "slide_type": "subslide"
    }
   },
   "outputs": [],
   "source": [
    "helper.print_code_names(class_code)"
   ]
  },
  {
   "cell_type": "code",
   "execution_count": null,
   "metadata": {
    "slideshow": {
     "slide_type": "subslide"
    }
   },
   "outputs": [],
   "source": [
    "helper.print_code_names(mymodule.decorator.__code__)"
   ]
  },
  {
   "cell_type": "code",
   "execution_count": null,
   "metadata": {
    "slideshow": {
     "slide_type": "subslide"
    }
   },
   "outputs": [],
   "source": [
    "helper.print_code_names(inner_code)"
   ]
  },
  {
   "cell_type": "markdown",
   "metadata": {
    "slideshow": {
     "slide_type": "subslide"
    }
   },
   "source": [
    "#### We will discuss naming and binding in later lecture. 🙂"
   ]
  },
  {
   "cell_type": "markdown",
   "metadata": {
    "slideshow": {
     "slide_type": "slide"
    }
   },
   "source": [
    "## Execution frame"
   ]
  },
  {
   "cell_type": "markdown",
   "metadata": {
    "slideshow": {
     "slide_type": "subslide"
    }
   },
   "source": [
    "### Definition in natural language\n",
    "\n",
    "A code block is executed in an <em style=\"color: blue\">execution frame</em>.\n",
    "\n",
    "A frame contains some administrative information(used for debugging) and determines where and how execution continues after the code block's execution has completed."
   ]
  },
  {
   "cell_type": "markdown",
   "metadata": {
    "slideshow": {
     "slide_type": "subslide"
    }
   },
   "source": [
    "### Definition in C programming language\n",
    "\n",
    "```c\n",
    "// https://github.com/python/cpython/blob/2.7/Include/frameobject.h#L16\n",
    "typedef struct _frame {\n",
    "    PyObject_VAR_HEAD\n",
    "    struct _frame *f_back;  /* previous frame, or NULL */\n",
    "    PyCodeObject *f_code;   /* code segment */\n",
    "    PyObject *f_builtins;   /* builtin symbol table (PyDictObject) */\n",
    "    PyObject *f_globals;    /* global symbol table (PyDictObject) */\n",
    "    PyObject *f_locals;     /* local symbol table (any mapping) */\n",
    "    PyObject **f_valuestack;    /* points after the last local */\n",
    "    PyObject **f_stacktop;\n",
    "    PyObject *f_trace;      /* Trace function */\n",
    "    PyObject *f_exc_type, *f_exc_value, *f_exc_traceback;\n",
    "    PyThreadState *f_tstate;\n",
    "    int f_lasti;        /* Last instruction if called */\n",
    "    int f_lineno;       /* Current line number */\n",
    "    int f_iblock;       /* index in f_blockstack */\n",
    "    PyTryBlock f_blockstack[CO_MAXBLOCKS]; /* for try and loop blocks */\n",
    "    PyObject *f_localsplus[1];  /* locals+stack, dynamically sized */\n",
    "} PyFrameObject;\n",
    "```"
   ]
  },
  {
   "cell_type": "markdown",
   "metadata": {
    "slideshow": {
     "slide_type": "subslide"
    }
   },
   "source": [
    "### Call stack (C)\n",
    "\n",
    "![typical call stack](images/Call_stack_layout.png \"Typical Call Stack\")"
   ]
  },
  {
   "cell_type": "markdown",
   "metadata": {
    "slideshow": {
     "slide_type": "subslide"
    }
   },
   "source": [
    "### Call stack (Python)\n",
    "![call stack python](images/frame.png \"Call Stack (Python)\")"
   ]
  },
  {
   "cell_type": "markdown",
   "metadata": {
    "slideshow": {
     "slide_type": "subslide"
    }
   },
   "source": [
    "### A code block is executed in an execution frame"
   ]
  },
  {
   "cell_type": "markdown",
   "metadata": {
    "slideshow": {
     "slide_type": "fragment"
    }
   },
   "source": [
    "Proof."
   ]
  },
  {
   "cell_type": "code",
   "execution_count": 109,
   "metadata": {
    "slideshow": {
     "slide_type": "fragment"
    }
   },
   "outputs": [
    {
     "data": {
      "text/plain": [
       "True"
      ]
     },
     "execution_count": 109,
     "metadata": {},
     "output_type": "execute_result"
    }
   ],
   "source": [
    "import inspect\n",
    "code = compile(\"\"\"exc_frame = inspect.currentframe()\"\"\", \"<string>\", \"exec\")\n",
    "exec(code)\n",
    "exc_frame.f_code is code"
   ]
  },
  {
   "cell_type": "code",
   "execution_count": 112,
   "metadata": {
    "scrolled": false,
    "slideshow": {
     "slide_type": "subslide"
    }
   },
   "outputs": [
    {
     "name": "stdout",
     "output_type": "stream",
     "text": [
      "[{'back': <frame object at 0x7fc90e19dc10>},\n",
      " {'code': <code object <module> at 0x106693030, file \"<string>\", line 1>},\n",
      " {'exc_traceback': None, 'exc_type': None, 'exc_value': None},\n",
      " {'builtins': 4371816808, 'globals': 4401376904, 'locals': 4401376904},\n",
      " {'stack': [('/usr/local/Cellar/python/2.7.14/Frameworks/Python.framework/Versions/2.7/lib/python2.7/runpy.py',\n",
      "             174,\n",
      "             '_run_module_as_main',\n",
      "             '\"__main__\", fname, loader, pkg_name)'),\n",
      "            ('/usr/local/Cellar/python/2.7.14/Frameworks/Python.framework/Versions/2.7/lib/python2.7/runpy.py',\n",
      "             72,\n",
      "             '_run_code',\n",
      "             'exec code in run_globals'),\n",
      "            ('/usr/local/lib/python2.7/site-packages/ipykernel_launcher.py',\n",
      "             16,\n",
      "             '<module>',\n",
      "             'app.launch_new_instance()'),\n",
      "            ('/usr/local/lib/python2.7/site-packages/traitlets/config/application.py',\n",
      "             658,\n",
      "             'launch_instance',\n",
      "             'app.start()'),\n",
      "            ('/usr/local/lib/python2.7/site-packages/ipykernel/kernelapp.py',\n",
      "             486,\n",
      "             'start',\n",
      "             'self.io_loop.start()'),\n",
      "            ('/usr/local/lib/python2.7/site-packages/tornado/ioloop.py',\n",
      "             1065,\n",
      "             'start',\n",
      "             'handler_func(fd_obj, events)'),\n",
      "            ('/usr/local/lib/python2.7/site-packages/tornado/stack_context.py',\n",
      "             278,\n",
      "             'null_wrapper',\n",
      "             '_state.contexts = current_state'),\n",
      "            ('/usr/local/lib/python2.7/site-packages/zmq/eventloop/zmqstream.py',\n",
      "             463,\n",
      "             '_handle_events',\n",
      "             'raise'),\n",
      "            ('/usr/local/lib/python2.7/site-packages/zmq/eventloop/zmqstream.py',\n",
      "             480,\n",
      "             '_handle_recv',\n",
      "             'self._run_callback(callback, msg)'),\n",
      "            ('/usr/local/lib/python2.7/site-packages/zmq/eventloop/zmqstream.py',\n",
      "             438,\n",
      "             '_run_callback',\n",
      "             'raise'),\n",
      "            ('/usr/local/lib/python2.7/site-packages/tornado/stack_context.py',\n",
      "             278,\n",
      "             'null_wrapper',\n",
      "             '_state.contexts = current_state'),\n",
      "            ('/usr/local/lib/python2.7/site-packages/ipykernel/kernelbase.py',\n",
      "             283,\n",
      "             'dispatcher',\n",
      "             'return self.dispatch_shell(stream, msg)'),\n",
      "            ('/usr/local/lib/python2.7/site-packages/ipykernel/kernelbase.py',\n",
      "             241,\n",
      "             'dispatch_shell',\n",
      "             \"self._publish_status(u'idle')\"),\n",
      "            ('/usr/local/lib/python2.7/site-packages/ipykernel/kernelbase.py',\n",
      "             421,\n",
      "             'execute_request',\n",
      "             'self._abort_queues()'),\n",
      "            ('/usr/local/lib/python2.7/site-packages/ipykernel/ipkernel.py',\n",
      "             258,\n",
      "             'do_execute',\n",
      "             'return reply_content'),\n",
      "            ('/usr/local/lib/python2.7/site-packages/ipykernel/zmqshell.py',\n",
      "             537,\n",
      "             'run_cell',\n",
      "             'return super(ZMQInteractiveShell, self).run_cell(*args, **kwargs)'),\n",
      "            ('/usr/local/lib/python2.7/site-packages/IPython/core/interactiveshell.py',\n",
      "             2737,\n",
      "             'run_cell',\n",
      "             'return result'),\n",
      "            ('/usr/local/lib/python2.7/site-packages/IPython/core/interactiveshell.py',\n",
      "             2850,\n",
      "             'run_ast_nodes',\n",
      "             'return False'),\n",
      "            ('/usr/local/lib/python2.7/site-packages/IPython/core/interactiveshell.py',\n",
      "             2902,\n",
      "             'run_code',\n",
      "             'return outflag'),\n",
      "            ('<ipython-input-109-bef013c441f0>',\n",
      "             3,\n",
      "             '<module>',\n",
      "             u'exec(code)'),\n",
      "            ('<string>', 1, '<module>', None)]}]\n",
      "<type 'frame'>\n"
     ]
    }
   ],
   "source": [
    "# frame structure.\n",
    "import helper\n",
    "helper.print_frame(exc_frame)"
   ]
  },
  {
   "cell_type": "markdown",
   "metadata": {
    "slideshow": {
     "slide_type": "subslide"
    }
   },
   "source": [
    "### Linked list of frames"
   ]
  },
  {
   "cell_type": "code",
   "execution_count": 73,
   "metadata": {
    "slideshow": {
     "slide_type": "fragment"
    }
   },
   "outputs": [
    {
     "name": "stdout",
     "output_type": "stream",
     "text": [
      "  1           0 LOAD_NAME                0 (inspect)\n",
      "              3 LOAD_ATTR                1 (currentframe)\n",
      "              6 CALL_FUNCTION            0\n",
      "              9 STORE_NAME               2 (frame)\n",
      "             12 LOAD_CONST               0 (None)\n",
      "             15 RETURN_VALUE        \n"
     ]
    }
   ],
   "source": [
    "dis.dis(frame.f_code)"
   ]
  },
  {
   "cell_type": "code",
   "execution_count": 74,
   "metadata": {
    "slideshow": {
     "slide_type": "fragment"
    }
   },
   "outputs": [
    {
     "name": "stdout",
     "output_type": "stream",
     "text": [
      "  3           0 LOAD_CONST               0 ('frame = inspect.currentframe()')\n",
      "              3 LOAD_CONST               1 (None)\n",
      "              6 DUP_TOP             \n",
      "              7 EXEC_STMT           \n",
      "              8 LOAD_CONST               1 (None)\n",
      "             11 RETURN_VALUE        \n"
     ]
    }
   ],
   "source": [
    "dis.dis(frame.f_back.f_code)"
   ]
  },
  {
   "cell_type": "markdown",
   "metadata": {
    "slideshow": {
     "slide_type": "slide"
    }
   },
   "source": [
    "## Control flow & Exceptions"
   ]
  },
  {
   "cell_type": "markdown",
   "metadata": {
    "slideshow": {
     "slide_type": "subslide"
    }
   },
   "source": [
    "### ***Exception*** Definition in natural language\n",
    "Exceptions are a means of breaking out of the normal <em style=\"color: blue\">flow of control</em> of a code block in order to handle errors or other exceptional conditions."
   ]
  },
  {
   "cell_type": "code",
   "execution_count": 81,
   "metadata": {
    "slideshow": {
     "slide_type": "fragment"
    }
   },
   "outputs": [],
   "source": [
    "# I would like to talk about 'the flow of control' instead of the exceptions only."
   ]
  },
  {
   "cell_type": "markdown",
   "metadata": {
    "slideshow": {
     "slide_type": "subslide"
    }
   },
   "source": [
    "### PyTryBlock\n",
    "```c\n",
    "// https://github.com/python/cpython/blob/2.7/Include/frameobject.h#L10\n",
    "typedef struct {\n",
    "    int b_type;                 /* what kind of block this is */\n",
    "    int b_handler;              /* where to jump to find handler */\n",
    "    int b_level;                /* value stack level to pop to */\n",
    "} PyTryBlock;\n",
    "```"
   ]
  },
  {
   "cell_type": "markdown",
   "metadata": {
    "slideshow": {
     "slide_type": "fragment"
    }
   },
   "source": [
    "### PyFrameObject Recap\n",
    "```c\n",
    "// https://github.com/python/cpython/blob/2.7/Include/frameobject.h#L16\n",
    "typedef struct _frame {\n",
    "    /* ... */\n",
    "    int f_iblock;       /* index in f_blockstack */\n",
    "    PyTryBlock f_blockstack[CO_MAXBLOCKS]; /* for try and loop blocks */\n",
    "    /* ... */\n",
    "} PyFrameObject;\n",
    "```"
   ]
  },
  {
   "cell_type": "markdown",
   "metadata": {
    "slideshow": {
     "slide_type": "subslide"
    }
   },
   "source": [
    "### PyFrame_BlockSetup\n",
    "```c\n",
    "// https://github.com/python/cpython/blob/2.7/Objects/frameobject.c#L748\n",
    "void\n",
    "PyFrame_BlockSetup(PyFrameObject *f, int type, int handler, int level)\n",
    "{\n",
    "    PyTryBlock *b;\n",
    "    if (f->f_iblock >= CO_MAXBLOCKS)\n",
    "        Py_FatalError(\"XXX block stack overflow\");\n",
    "    b = &f->f_blockstack[f->f_iblock++];\n",
    "    b->b_type = type;\n",
    "    b->b_level = level;\n",
    "    b->b_handler = handler;\n",
    "}\n",
    "```"
   ]
  },
  {
   "cell_type": "markdown",
   "metadata": {
    "slideshow": {
     "slide_type": "subslide"
    }
   },
   "source": [
    "### for loop"
   ]
  },
  {
   "cell_type": "code",
   "execution_count": 88,
   "metadata": {
    "scrolled": true,
    "slideshow": {
     "slide_type": "subslide"
    }
   },
   "outputs": [
    {
     "name": "stdout",
     "output_type": "stream",
     "text": [
      "  2           0 SETUP_LOOP              46 (to 49)\n",
      "              3 LOAD_NAME                0 (range)\n",
      "              6 LOAD_CONST               0 (10)\n",
      "              9 CALL_FUNCTION            1\n",
      "             12 GET_ITER            \n",
      "        >>   13 FOR_ITER                27 (to 43)\n",
      "             16 STORE_NAME               1 (i)\n",
      "\n",
      "  3          19 LOAD_NAME                1 (i)\n",
      "             22 LOAD_CONST               1 (0)\n",
      "             25 COMPARE_OP               0 (<)\n",
      "             28 POP_JUMP_IF_FALSE       35\n",
      "\n",
      "  4          31 BREAK_LOOP          \n",
      "             32 JUMP_FORWARD             0 (to 35)\n",
      "\n",
      "  5     >>   35 LOAD_NAME                1 (i)\n",
      "             38 PRINT_ITEM          \n",
      "             39 PRINT_NEWLINE       \n",
      "             40 JUMP_ABSOLUTE           13\n",
      "        >>   43 POP_BLOCK           \n",
      "\n",
      "  7          44 LOAD_CONST               2 ('no break')\n",
      "             47 PRINT_ITEM          \n",
      "             48 PRINT_NEWLINE       \n",
      "        >>   49 LOAD_CONST               3 (None)\n",
      "             52 RETURN_VALUE        \n"
     ]
    }
   ],
   "source": [
    "# SETUP_LOOP: https://github.com/python/cpython/blob/2.7/Python/ceval.c#L2865\n",
    "# FOR_ITER: https://github.com/python/cpython/blob/2.7/Python/ceval.c#L2823\n",
    "# BREAK_LOOP: https://github.com/python/cpython/blob/2.7/Python/ceval.c#L3248\n",
    "code = compile(\"\"\"\n",
    "for i in range(10):\n",
    "    if i < 0:\n",
    "        break\n",
    "    print(i)\n",
    "else:\n",
    "    print(\"no break\")\"\"\", \"<string>\", \"exec\")\n",
    "dis.dis(code)"
   ]
  },
  {
   "cell_type": "markdown",
   "metadata": {
    "slideshow": {
     "slide_type": "subslide"
    }
   },
   "source": [
    "### with statement"
   ]
  },
  {
   "cell_type": "code",
   "execution_count": 90,
   "metadata": {
    "slideshow": {
     "slide_type": "subslide"
    }
   },
   "outputs": [
    {
     "name": "stdout",
     "output_type": "stream",
     "text": [
      "  1           0 LOAD_NAME                0 (open)\n",
      "              3 LOAD_CONST               0 ('q3/a.py')\n",
      "              6 CALL_FUNCTION            1\n",
      "              9 SETUP_WITH              18 (to 30)\n",
      "             12 STORE_NAME               1 (f)\n",
      "\n",
      "  2          15 LOAD_NAME                1 (f)\n",
      "             18 LOAD_ATTR                2 (read)\n",
      "             21 CALL_FUNCTION            0\n",
      "             24 PRINT_ITEM          \n",
      "             25 PRINT_NEWLINE       \n",
      "             26 POP_BLOCK           \n",
      "             27 LOAD_CONST               1 (None)\n",
      "        >>   30 WITH_CLEANUP        \n",
      "             31 END_FINALLY         \n",
      "             32 LOAD_CONST               1 (None)\n",
      "             35 RETURN_VALUE        \n"
     ]
    }
   ],
   "source": [
    "# SETUP_WITH: https://github.com/python/cpython/blob/2.7/Python/ceval.c#L2882\n",
    "# WITH_CLEANUP: https://github.com/python/cpython/blob/2.7/Python/ceval.c#L2913\n",
    "code = compile(\"\"\"with open('q3/a.py') as f:\n",
    "    print(f.read())\"\"\", \"<string>\", \"exec\")\n",
    "dis.dis(code)"
   ]
  },
  {
   "cell_type": "markdown",
   "metadata": {
    "slideshow": {
     "slide_type": "subslide"
    }
   },
   "source": [
    "### try ... except statement"
   ]
  },
  {
   "cell_type": "code",
   "execution_count": 94,
   "metadata": {
    "scrolled": true,
    "slideshow": {
     "slide_type": "subslide"
    }
   },
   "outputs": [
    {
     "name": "stdout",
     "output_type": "stream",
     "text": [
      "  1           0 SETUP_FINALLY           64 (to 67)\n",
      "              3 SETUP_EXCEPT            12 (to 18)\n",
      "\n",
      "  2           6 LOAD_CONST               0 (1)\n",
      "              9 LOAD_CONST               1 (0)\n",
      "             12 BINARY_DIVIDE       \n",
      "             13 POP_TOP             \n",
      "             14 POP_BLOCK           \n",
      "             15 JUMP_FORWARD            45 (to 63)\n",
      "\n",
      "  3     >>   18 DUP_TOP             \n",
      "             19 LOAD_NAME                0 (NameError)\n",
      "             22 COMPARE_OP              10 (exception match)\n",
      "             25 POP_JUMP_IF_FALSE       39\n",
      "             28 POP_TOP             \n",
      "             29 POP_TOP             \n",
      "             30 POP_TOP             \n",
      "\n",
      "  4          31 LOAD_CONST               2 ('should not be NameError')\n",
      "             34 PRINT_ITEM          \n",
      "             35 PRINT_NEWLINE       \n",
      "             36 JUMP_FORWARD            24 (to 63)\n",
      "\n",
      "  5     >>   39 DUP_TOP             \n",
      "             40 LOAD_NAME                1 (Exception)\n",
      "             43 COMPARE_OP              10 (exception match)\n",
      "             46 POP_JUMP_IF_FALSE       62\n",
      "             49 POP_TOP             \n",
      "             50 STORE_NAME               2 (e)\n",
      "             53 POP_TOP             \n",
      "\n",
      "  6          54 LOAD_NAME                2 (e)\n",
      "             57 PRINT_ITEM          \n",
      "             58 PRINT_NEWLINE       \n",
      "             59 JUMP_FORWARD             1 (to 63)\n",
      "        >>   62 END_FINALLY         \n",
      "        >>   63 POP_BLOCK           \n",
      "             64 LOAD_CONST               3 (None)\n",
      "\n",
      "  8     >>   67 LOAD_CONST               4 ('finally end')\n",
      "             70 PRINT_ITEM          \n",
      "             71 PRINT_NEWLINE       \n",
      "             72 END_FINALLY         \n",
      "             73 LOAD_CONST               3 (None)\n",
      "             76 RETURN_VALUE        \n"
     ]
    }
   ],
   "source": [
    "# SETUP_FINALLY, SETUP_EXCEPT: https://github.com/python/cpython/blob/2.7/Python/ceval.c#L2865\n",
    "code = compile(\"\"\"try:\n",
    "    1/0\n",
    "except NameError:\n",
    "    print(\"should not be NameError\")\n",
    "except Exception as e:\n",
    "    print(e)\n",
    "finally:\n",
    "    print(\"finally end\")\"\"\", \"<string>\", \"exec\")\n",
    "dis.dis(code)"
   ]
  },
  {
   "cell_type": "markdown",
   "metadata": {},
   "source": [
    "### Python Exception mechanism"
   ]
  },
  {
   "cell_type": "markdown",
   "metadata": {
    "slideshow": {
     "slide_type": "subslide"
    }
   },
   "source": [
    "- PyEval_EvalFrameEx: \n",
    "    \n",
    "    - PyEval_EvalFrameEx function: https://github.com/python/cpython/blob/2.7/Python/ceval.c#L688 \n",
    "    - How to handle exceptions: https://github.com/python/cpython/blob/2.7/Python/ceval.c#L3257\n",
    "    \n",
    "- PyErr_Fetch: Fetch exception info from ThreadState https://github.com/python/cpython/blob/2.7/Python/errors.c#L243\n",
    "- set_exc_info: https://github.com/python/cpython/blob/2.7/Python/ceval.c#L3718"
   ]
  },
  {
   "cell_type": "code",
   "execution_count": 97,
   "metadata": {
    "slideshow": {
     "slide_type": "subslide"
    }
   },
   "outputs": [
    {
     "name": "stdout",
     "output_type": "stream",
     "text": [
      "  2           0 LOAD_NAME                0 (inspect)\n",
      "              3 LOAD_ATTR                1 (currentframe)\n",
      "              6 CALL_FUNCTION            0\n",
      "              9 STORE_NAME               2 (exc_frame)\n",
      "\n",
      "  3          12 SETUP_EXCEPT            12 (to 27)\n",
      "\n",
      "  4          15 LOAD_CONST               0 (1)\n",
      "             18 LOAD_CONST               1 (0)\n",
      "             21 BINARY_DIVIDE       \n",
      "             22 POP_TOP             \n",
      "             23 POP_BLOCK           \n",
      "             24 JUMP_FORWARD             7 (to 34)\n",
      "\n",
      "  5     >>   27 POP_TOP             \n",
      "             28 POP_TOP             \n",
      "             29 POP_TOP             \n",
      "\n",
      "  6          30 JUMP_FORWARD             1 (to 34)\n",
      "             33 END_FINALLY         \n",
      "        >>   34 LOAD_CONST               2 (None)\n",
      "             37 RETURN_VALUE        \n"
     ]
    },
    {
     "data": {
      "text/plain": [
       "True"
      ]
     },
     "execution_count": 97,
     "metadata": {},
     "output_type": "execute_result"
    }
   ],
   "source": [
    "code = compile(\"\"\"\n",
    "exc_frame = inspect.currentframe()\n",
    "try:\n",
    "    1/0\n",
    "except:\n",
    "    pass\"\"\", \"<string>\", \"exec\")\n",
    "exec(code)\n",
    "dis.dis(code)\n",
    "exc_frame.f_code is code"
   ]
  },
  {
   "cell_type": "markdown",
   "metadata": {
    "slideshow": {
     "slide_type": "slide"
    }
   },
   "source": [
    "## Thread"
   ]
  },
  {
   "cell_type": "markdown",
   "metadata": {
    "slideshow": {
     "slide_type": "slide"
    }
   },
   "source": [
    "## References\n",
    "https://opensource.com/article/17/4/grok-gil"
   ]
  }
 ],
 "metadata": {
  "celltoolbar": "Slideshow",
  "kernelspec": {
   "display_name": "Python 2",
   "language": "python",
   "name": "python2"
  },
  "language_info": {
   "codemirror_mode": {
    "name": "ipython",
    "version": 2
   },
   "file_extension": ".py",
   "mimetype": "text/x-python",
   "name": "python",
   "nbconvert_exporter": "python",
   "pygments_lexer": "ipython2",
   "version": "2.7.14"
  }
 },
 "nbformat": 4,
 "nbformat_minor": 2
}
