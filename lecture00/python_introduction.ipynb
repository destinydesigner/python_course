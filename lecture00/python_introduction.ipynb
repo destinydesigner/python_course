{
 "cells": [
  {
   "cell_type": "markdown",
   "metadata": {
    "slideshow": {
     "slide_type": "slide"
    }
   },
   "source": [
    "# Python Introduction"
   ]
  },
  {
   "cell_type": "markdown",
   "metadata": {
    "slideshow": {
     "slide_type": "slide"
    }
   },
   "source": [
    "## Prerequisite\n",
    "\n",
    "- C programming basics\n",
    "- Python syntax basics\n",
    "- Fundamental programming language concepts\n",
    "    \n",
    "    - syntax and semantics\n",
    "    - typing system\n",
    "    - programming paradigms"
   ]
  },
  {
   "cell_type": "markdown",
   "metadata": {
    "slideshow": {
     "slide_type": "slide"
    }
   },
   "source": [
    "## Python Placement Test\n"
   ]
  },
  {
   "cell_type": "markdown",
   "metadata": {
    "slideshow": {
     "slide_type": "subslide"
    }
   },
   "source": [
    "### Question 1 - What's the output?"
   ]
  },
  {
   "cell_type": "code",
   "execution_count": null,
   "metadata": {
    "slideshow": {
     "slide_type": "-"
    }
   },
   "outputs": [],
   "source": [
    "x = 1\n",
    "\n",
    "def foo():\n",
    "    print(x)\n",
    "    \n",
    "x = 10\n",
    "\n",
    "foo()"
   ]
  },
  {
   "cell_type": "markdown",
   "metadata": {
    "slideshow": {
     "slide_type": "subslide"
    }
   },
   "source": [
    "### Question 2 - What's the output?"
   ]
  },
  {
   "cell_type": "code",
   "execution_count": null,
   "metadata": {
    "slideshow": {
     "slide_type": "-"
    }
   },
   "outputs": [],
   "source": [
    "def a():\n",
    "    return []\n",
    "    \n",
    "def b(x=a()):\n",
    "    x.append(5)\n",
    "    print(x)\n",
    "    \n",
    "b()\n",
    "b()"
   ]
  },
  {
   "cell_type": "markdown",
   "metadata": {
    "slideshow": {
     "slide_type": "subslide"
    }
   },
   "source": [
    "### Question 3 - What's the output?"
   ]
  },
  {
   "cell_type": "markdown",
   "metadata": {
    "slideshow": {
     "slide_type": "-"
    }
   },
   "source": [
    "```python\n",
    "# q3/a.py\n",
    "print(__name__)\n",
    "import q3.a\n",
    "import q3.b\n",
    "```"
   ]
  },
  {
   "cell_type": "markdown",
   "metadata": {
    "slideshow": {
     "slide_type": "-"
    }
   },
   "source": [
    "```python\n",
    "# q3/b.py\n",
    "print(__name__)\n",
    "import q3.a\n",
    "```"
   ]
  },
  {
   "cell_type": "code",
   "execution_count": null,
   "metadata": {
    "slideshow": {
     "slide_type": "subslide"
    }
   },
   "outputs": [],
   "source": [
    "# run as shell command `python q3/a.py`\n",
    "import subprocess\n",
    "print(subprocess.check_output(\"python q3/a.py\", shell=True, stderr=subprocess.STDOUT).)"
   ]
  },
  {
   "cell_type": "markdown",
   "metadata": {
    "slideshow": {
     "slide_type": "subslide"
    }
   },
   "source": [
    "### Question 4 - What's the output?"
   ]
  },
  {
   "cell_type": "markdown",
   "metadata": {},
   "source": [
    "```python\n",
    "# q4/a.py\n",
    "print(__name__)\n",
    "import q4.a\n",
    "import q4.b\n",
    "```"
   ]
  },
  {
   "cell_type": "markdown",
   "metadata": {},
   "source": [
    "```python\n",
    "# q4/b.py\n",
    "print(__name__)\n",
    "from q4.a import b\n",
    "```"
   ]
  },
  {
   "cell_type": "code",
   "execution_count": null,
   "metadata": {
    "slideshow": {
     "slide_type": "subslide"
    }
   },
   "outputs": [],
   "source": [
    "# run as shell command `python q4/a.py`\n",
    "import subprocess\n",
    "print(subprocess.check_output(\"python q4/a.py; exit 0\", shell=True, stderr=subprocess.STDOUT))"
   ]
  },
  {
   "cell_type": "markdown",
   "metadata": {
    "slideshow": {
     "slide_type": "subslide"
    }
   },
   "source": [
    "### Question 5 - What's the output?"
   ]
  },
  {
   "cell_type": "code",
   "execution_count": null,
   "metadata": {},
   "outputs": [],
   "source": [
    "def foo(*args, **kwargs): pass\n",
    "    \n",
    "class A(object):\n",
    "    foo = 1\n",
    "\n",
    "print(type(foo))\n",
    "\n",
    "a = A()\n",
    "print(type(a.foo))\n",
    "\n",
    "A.foo = foo\n",
    "print(type(a.foo))\n",
    "\n",
    "a.foo = foo\n",
    "print(type(a.foo))\n",
    "print(type(A.foo))"
   ]
  },
  {
   "cell_type": "markdown",
   "metadata": {
    "slideshow": {
     "slide_type": "subslide"
    }
   },
   "source": [
    "### Python Placement Test Review\n"
   ]
  },
  {
   "cell_type": "code",
   "execution_count": null,
   "metadata": {
    "slideshow": {
     "slide_type": "-"
    }
   },
   "outputs": [],
   "source": [
    "def judge(score):\n",
    "    final_review = 'Please take this course.'\n",
    "    grade = {\n",
    "        2: 'You can be benefited from this course.',\n",
    "        5: 'Pretty good!'\n",
    "    }\n",
    "\n",
    "    for required_score, review in grade.items():\n",
    "        if score < required_score:\n",
    "            break\n",
    "        final_review = review\n",
    "       \n",
    "    return final_review\n",
    "    \n",
    "for i in range(0, 6):\n",
    "    print(i, judge(i))"
   ]
  },
  {
   "cell_type": "markdown",
   "metadata": {
    "slideshow": {
     "slide_type": "slide"
    }
   },
   "source": [
    "## Agenda\n",
    "\n",
    "- Overview\n",
    "- How Python runs programs\n",
    "- Essentials"
   ]
  },
  {
   "cell_type": "markdown",
   "metadata": {
    "slideshow": {
     "slide_type": "slide"
    }
   },
   "source": [
    "## Overview"
   ]
  },
  {
   "cell_type": "markdown",
   "metadata": {
    "slideshow": {
     "slide_type": "subslide"
    }
   },
   "source": [
    "### Language Perspective"
   ]
  },
  {
   "cell_type": "markdown",
   "metadata": {
    "slideshow": {
     "slide_type": "fragment"
    }
   },
   "source": [
    "- Interpreted language (Interpreter)"
   ]
  },
  {
   "cell_type": "markdown",
   "metadata": {
    "slideshow": {
     "slide_type": "fragment"
    }
   },
   "source": [
    "- Readability (Syntax & Pythonic style)"
   ]
  },
  {
   "cell_type": "markdown",
   "metadata": {
    "slideshow": {
     "slide_type": "fragment"
    }
   },
   "source": [
    "- Strong, dynamic & duck typing"
   ]
  },
  {
   "cell_type": "markdown",
   "metadata": {
    "slideshow": {
     "slide_type": "fragment"
    }
   },
   "source": [
    "- Multiple paradigms (OO, procedural, functional)"
   ]
  },
  {
   "cell_type": "markdown",
   "metadata": {
    "slideshow": {
     "slide_type": "fragment"
    }
   },
   "source": [
    "- Memory management (GC, Reference counting and so on)"
   ]
  },
  {
   "cell_type": "markdown",
   "metadata": {
    "slideshow": {
     "slide_type": "notes"
    }
   },
   "source": [
    "With normal typing, suitability is assumed to be determined by an object's type only. In duck typing, an object's suitability is determined by the presence of certain methods and properties (with appropriate meaning), rather than the actual type of the object."
   ]
  },
  {
   "cell_type": "markdown",
   "metadata": {
    "slideshow": {
     "slide_type": "subslide"
    }
   },
   "source": [
    "### Implementations\n",
    "- CPython\n",
    "- PyPy\n",
    "- Jython\n",
    "- IronPython\n"
   ]
  },
  {
   "cell_type": "markdown",
   "metadata": {
    "slideshow": {
     "slide_type": "subslide"
    }
   },
   "source": [
    "### Versions\n",
    "- There are Python2 and Python3\n",
    "- They are incompatible.\n",
    "- Fundamental changes:\n",
    "    \n",
    "    - some syntax ('print', 'yield from' ...)\n",
    "    - implementation details (str, bound methods, dictionary view object …)\n",
    "    - ...\n"
   ]
  },
  {
   "cell_type": "markdown",
   "metadata": {
    "slideshow": {
     "slide_type": "notes"
    }
   },
   "source": [
    "str and unicode\n",
    "In February 1991, the code(labeled version 0.9.0) of CPython was published.\n",
    "In October 1991, the first volume of the Unicode standard was published."
   ]
  },
  {
   "cell_type": "markdown",
   "metadata": {
    "slideshow": {
     "slide_type": "subslide"
    }
   },
   "source": [
    "### Philosophy"
   ]
  },
  {
   "cell_type": "code",
   "execution_count": null,
   "metadata": {
    "slideshow": {
     "slide_type": "-"
    }
   },
   "outputs": [],
   "source": [
    "import this"
   ]
  },
  {
   "cell_type": "markdown",
   "metadata": {
    "slideshow": {
     "slide_type": "slide"
    }
   },
   "source": [
    "## How Python runs programs"
   ]
  },
  {
   "cell_type": "markdown",
   "metadata": {
    "slideshow": {
     "slide_type": "subslide"
    }
   },
   "source": [
    "![how python runs programs](images/illustration1.png \"How Python runs programs\")"
   ]
  },
  {
   "cell_type": "markdown",
   "metadata": {
    "slideshow": {
     "slide_type": "subslide"
    }
   },
   "source": [
    "### Essential concepts\n",
    "\n",
    "- Execution model\n",
    "    - Code Blocks\n",
    "    - Execution Frame\n",
    "    - Name\n",
    "    - Scope\n",
    "\n",
    "- Top-level components\n"
   ]
  },
  {
   "cell_type": "markdown",
   "metadata": {
    "slideshow": {
     "slide_type": "slide"
    }
   },
   "source": [
    "## Code blocks"
   ]
  },
  {
   "cell_type": "markdown",
   "metadata": {
    "slideshow": {
     "slide_type": "subslide"
    }
   },
   "source": [
    "### Definition in natural language\n",
    "\n",
    "A <em style=\"color: blue\">block</em> is a piece of Python program text that is executed as a unit."
   ]
  },
  {
   "cell_type": "markdown",
   "metadata": {
    "slideshow": {
     "slide_type": "fragment"
    }
   },
   "source": [
    "The following are blocks:\n",
    "- a module,\n",
    "- a function body,\n",
    "- a class definition,\n",
    "- each command typed interactively,\n",
    "- a script file (standard input or command line argument),\n",
    "- a script command('-c' option),\n",
    "- a string argument passed to the built-in functions eval() and exec(),\n",
    "- an expression read and evaluated by the built-in function input()."
   ]
  },
  {
   "cell_type": "markdown",
   "metadata": {
    "slideshow": {
     "slide_type": "subslide"
    }
   },
   "source": [
    "### Definition in C programming language\n",
    "\n",
    "```C\n",
    "typedef struct {\n",
    "    PyObject_HEAD\n",
    "    int co_argcount;        /* #arguments, except *args */\n",
    "    int co_nlocals;     /* #local variables */\n",
    "    int co_stacksize;       /* #entries needed for evaluation stack */\n",
    "    int co_flags;       /* CO_..., see below */\n",
    "    PyObject *co_code;      /* instruction opcodes */\n",
    "    PyObject *co_consts;    /* list (constants used) */\n",
    "    PyObject *co_names;     /* list of strings (names used) */\n",
    "    PyObject *co_varnames;  /* tuple of strings (local variable names) */\n",
    "    PyObject *co_freevars;  /* tuple of strings (free variable names) */\n",
    "    PyObject *co_cellvars;      /* tuple of strings (cell variable names) */\n",
    "    /* The rest doesn't count for hash/cmp */\n",
    "    PyObject *co_filename;  /* string (where it was loaded from) */\n",
    "    PyObject *co_name;      /* string (name, for reference) */\n",
    "    int co_firstlineno;     /* first source line number */\n",
    "    PyObject *co_lnotab;    /* string (encoding addr<->lineno mapping) See Objects/lnotab_notes.txt for details. */\n",
    "    void *co_zombieframe;     /* for optimization only (see frameobject.c) */\n",
    "    PyObject *co_weakreflist;   /* to support weakrefs to code objects */\n",
    "} PyCodeObject;\n",
    "```"
   ]
  },
  {
   "cell_type": "markdown",
   "metadata": {
    "slideshow": {
     "slide_type": "subslide"
    }
   },
   "source": [
    "### Examples"
   ]
  },
  {
   "cell_type": "code",
   "execution_count": null,
   "metadata": {
    "slideshow": {
     "slide_type": "subslide"
    }
   },
   "outputs": [],
   "source": [
    "# code object of a module\n",
    "import sys\n",
    "from code_block import mymodule\n",
    "\n",
    "import helper\n",
    "# Python 3.6: code_block/__pycache__/mymodule.cpython-36.pyc\n",
    "# Python 2.x: code_block/mymodule.pyc\n",
    "pycfile = 'code_block/mymodule.pyc' if sys.version_info[0] <=2 else 'code_block/__pycache__/mymodule.cpython-36.pyc'\n",
    "module_code = helper.load_code_object_from_pyc(pycfile)\n",
    "\n",
    "import dis\n",
    "dis.dis(module_code)"
   ]
  },
  {
   "cell_type": "code",
   "execution_count": null,
   "metadata": {
    "slideshow": {
     "slide_type": "subslide"
    }
   },
   "outputs": [],
   "source": [
    "# code object of a function\n",
    "dis.dis(mymodule.fib.__code__)"
   ]
  },
  {
   "cell_type": "code",
   "execution_count": null,
   "metadata": {
    "slideshow": {
     "slide_type": "subslide"
    }
   },
   "outputs": [],
   "source": [
    "# code object of a function\n",
    "dis.dis(mymodule.decorator.__code__)"
   ]
  },
  {
   "cell_type": "code",
   "execution_count": null,
   "metadata": {
    "slideshow": {
     "slide_type": "subslide"
    }
   },
   "outputs": [],
   "source": [
    "# code object of a function\n",
    "inner_code = helper.get_object_by_id( 0x10d709730 )\n",
    "dis.dis(inner_code)"
   ]
  },
  {
   "cell_type": "code",
   "execution_count": null,
   "metadata": {
    "slideshow": {
     "slide_type": "subslide"
    }
   },
   "outputs": [],
   "source": [
    "# code object of a class\n",
    "class_code = helper.get_object_by_id( 0x10d709930 )\n",
    "dis.dis(class_code)"
   ]
  },
  {
   "cell_type": "markdown",
   "metadata": {
    "slideshow": {
     "slide_type": "subslide"
    }
   },
   "source": [
    "### Naming and binding\n",
    "\n",
    "Names refer to objects. Names are introduced by name binding operations.\n"
   ]
  },
  {
   "cell_type": "markdown",
   "metadata": {
    "slideshow": {
     "slide_type": "fragment"
    }
   },
   "source": [
    "The following constructs bind names:\n",
    "- formal parameters to functions,\n",
    "- import statements,\n",
    "- class and function definitions,\n",
    "- and targets that are identifiers if occuring in an assignment,\n",
    "- for loop header,\n",
    "- or after as in a with statement or except clause."
   ]
  },
  {
   "cell_type": "markdown",
   "metadata": {
    "slideshow": {
     "slide_type": "subslide"
    }
   },
   "source": [
    "### Examples"
   ]
  },
  {
   "cell_type": "code",
   "execution_count": null,
   "metadata": {
    "slideshow": {
     "slide_type": "subslide"
    }
   },
   "outputs": [],
   "source": [
    "helper.print_code_names(module_code)"
   ]
  },
  {
   "cell_type": "code",
   "execution_count": null,
   "metadata": {
    "slideshow": {
     "slide_type": "subslide"
    }
   },
   "outputs": [],
   "source": [
    "helper.print_code_names(mymodule.fib.__code__)"
   ]
  },
  {
   "cell_type": "code",
   "execution_count": null,
   "metadata": {
    "slideshow": {
     "slide_type": "subslide"
    }
   },
   "outputs": [],
   "source": [
    "helper.print_code_names(class_code)"
   ]
  },
  {
   "cell_type": "code",
   "execution_count": null,
   "metadata": {
    "slideshow": {
     "slide_type": "subslide"
    }
   },
   "outputs": [],
   "source": [
    "helper.print_code_names(mymodule.decorator.__code__)"
   ]
  },
  {
   "cell_type": "code",
   "execution_count": null,
   "metadata": {
    "slideshow": {
     "slide_type": "subslide"
    }
   },
   "outputs": [],
   "source": [
    "helper.print_code_names(inner_code)"
   ]
  },
  {
   "cell_type": "markdown",
   "metadata": {
    "slideshow": {
     "slide_type": "subslide"
    }
   },
   "source": [
    "#### We will discuss naming and binding in later lecture. 🙂"
   ]
  },
  {
   "cell_type": "markdown",
   "metadata": {
    "slideshow": {
     "slide_type": "slide"
    }
   },
   "source": [
    "## Execution frame"
   ]
  },
  {
   "cell_type": "markdown",
   "metadata": {
    "slideshow": {
     "slide_type": "subslide"
    }
   },
   "source": [
    "### Definition in natural language\n",
    "\n",
    "A code block is executed in an <em style=\"color: blue\">execution frame</em>.\n",
    "\n",
    "A frame contains some administrative information(used for debugging) and determines where and how execution continues after the code block's execution has completed."
   ]
  },
  {
   "cell_type": "markdown",
   "metadata": {
    "slideshow": {
     "slide_type": "subslide"
    }
   },
   "source": [
    "### Definition in C programming language\n",
    "\n",
    "```c\n",
    "typedef struct _frame {\n",
    "    PyObject_VAR_HEAD\n",
    "    struct _frame *f_back;  /* previous frame, or NULL */\n",
    "    PyCodeObject *f_code;   /* code segment */\n",
    "    PyObject *f_builtins;   /* builtin symbol table (PyDictObject) */\n",
    "    PyObject *f_globals;    /* global symbol table (PyDictObject) */\n",
    "    PyObject *f_locals;     /* local symbol table (any mapping) */\n",
    "    PyObject **f_valuestack;    /* points after the last local */\n",
    "    PyObject **f_stacktop;\n",
    "    PyObject *f_trace;      /* Trace function */\n",
    "    PyObject *f_exc_type, *f_exc_value, *f_exc_traceback;\n",
    "    PyThreadState *f_tstate;\n",
    "    int f_lasti;        /* Last instruction if called */\n",
    "    int f_lineno;       /* Current line number */\n",
    "    int f_iblock;       /* index in f_blockstack */\n",
    "    PyTryBlock f_blockstack[CO_MAXBLOCKS]; /* for try and loop blocks */\n",
    "    PyObject *f_localsplus[1];  /* locals+stack, dynamically sized */\n",
    "} PyFrameObject;\n",
    "```"
   ]
  }
 ],
 "metadata": {
  "celltoolbar": "Slideshow",
  "kernelspec": {
   "display_name": "Python 2",
   "language": "python",
   "name": "python2"
  },
  "language_info": {
   "codemirror_mode": {
    "name": "ipython",
    "version": 2
   },
   "file_extension": ".py",
   "mimetype": "text/x-python",
   "name": "python",
   "nbconvert_exporter": "python",
   "pygments_lexer": "ipython2",
   "version": "2.7.14"
  }
 },
 "nbformat": 4,
 "nbformat_minor": 2
}
