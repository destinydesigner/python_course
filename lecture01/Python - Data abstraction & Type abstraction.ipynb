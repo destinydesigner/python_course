{
 "cells": [
  {
   "cell_type": "markdown",
   "metadata": {
    "slideshow": {
     "slide_type": "slide"
    }
   },
   "source": [
    "# Data abstraction & Type abstraction"
   ]
  },
  {
   "cell_type": "markdown",
   "metadata": {
    "slideshow": {
     "slide_type": "slide"
    }
   },
   "source": [
    "## Agenda\n",
    "\n",
    "- Essentials concepts\n",
    "    - Type\n",
    "    - Type System\n",
    "    - Polymorphism\n",
    "- Python Object\n",
    "- Python Type System\n",
    "- Python Class"
   ]
  },
  {
   "cell_type": "markdown",
   "metadata": {
    "slideshow": {
     "slide_type": "slide"
    }
   },
   "source": [
    "## Type"
   ]
  },
  {
   "cell_type": "markdown",
   "metadata": {
    "slideshow": {
     "slide_type": "subslide"
    }
   },
   "source": [
    "### Why type?"
   ]
  },
  {
   "cell_type": "markdown",
   "metadata": {
    "slideshow": {
     "slide_type": "fragment"
    }
   },
   "source": [
    "- Types <em style=\"color: red\">provide</em> <em style=\"color: blue\">implicit context</em> for many operations, so that the programmer does not have to specify that context explicitly."
   ]
  },
  {
   "cell_type": "markdown",
   "metadata": {
    "slideshow": {
     "slide_type": "fragment"
    }
   },
   "source": [
    "- Types <em style=\"color: red\">limit</em> <em style=\"color: blue\">the set of operations</em> that may be performed in a semantically valid program."
   ]
  },
  {
   "cell_type": "markdown",
   "metadata": {
    "slideshow": {
     "slide_type": "fragment"
    }
   },
   "source": [
    "- If types are specified explicitly in the source program, they can often make the program easier to read and understand."
   ]
  },
  {
   "cell_type": "markdown",
   "metadata": {
    "slideshow": {
     "slide_type": "fragment"
    }
   },
   "source": [
    "- If types are known at compile time, they can be used to drive important performance optimizations."
   ]
  },
  {
   "cell_type": "markdown",
   "metadata": {
    "slideshow": {
     "slide_type": "slide"
    }
   },
   "source": [
    "## Type System"
   ]
  },
  {
   "cell_type": "markdown",
   "metadata": {
    "slideshow": {
     "slide_type": "fragment"
    }
   },
   "source": [
    "Informally, a type system consists of\n",
    "1. a mechanism to <em style=\"color: blue\">define types</em> and associate them with certain language constructs, and\n",
    "2. <em style=\"color: red\">a set of rules</em> for <em style=\"color: blue\">type equivalence, type compatibility, and type inference.</em>"
   ]
  },
  {
   "cell_type": "markdown",
   "metadata": {
    "slideshow": {
     "slide_type": "notes"
    }
   },
   "source": [
    "Type compatibility is the one of most concern to programmers. In many languages, however, compatibility is a looser relationship than equivalence: objects and contexts are often compatible even when their types are different."
   ]
  },
  {
   "cell_type": "markdown",
   "metadata": {
    "slideshow": {
     "slide_type": "slide"
    }
   },
   "source": [
    "#### Type equivalence\n",
    "There are two principal ways of defining type equivalence.\n",
    "- <em style=\"color: blue\">Structural equivalence</em> is based on the content of type definitions.\n",
    "- <em style=\"color: blue\">Name equivalence</em> is based on the lexical occurrence of type definitions."
   ]
  },
  {
   "cell_type": "markdown",
   "metadata": {
    "slideshow": {
     "slide_type": "slide"
    }
   },
   "source": [
    "#### Type compatibility\n",
    "Most languages do not require equivalence of types in every context. Instead, they merely say that <em style=\"color: blue\">a value's type must be compatible with that of the context in which it appears.</em>"
   ]
  },
  {
   "cell_type": "markdown",
   "metadata": {
    "slideshow": {
     "slide_type": "subslide"
    }
   },
   "source": [
    "##### coercion\n",
    "Type coercion is performed automatically and implicitly whenever a language allows a value of one type to be used in a context that expects another."
   ]
  },
  {
   "cell_type": "markdown",
   "metadata": {
    "slideshow": {
     "slide_type": "subslide"
    }
   },
   "source": [
    "**What if the coercion can not be performed? 🤔**"
   ]
  },
  {
   "cell_type": "markdown",
   "metadata": {
    "slideshow": {
     "slide_type": "slide"
    }
   },
   "source": [
    "### Polymorphism\n",
    "Parametric Polymorphism & Subtype Polymorphism"
   ]
  },
  {
   "cell_type": "markdown",
   "metadata": {
    "slideshow": {
     "slide_type": "subslide"
    }
   },
   "source": [
    "```c++\n",
    "// C++: explicit parametric polymorphism\n",
    "template <typename T>\n",
    "T const& Max (T const& a, T const& b) { \n",
    "    return a < b ? b:a; \n",
    "}\n",
    "```"
   ]
  },
  {
   "cell_type": "markdown",
   "metadata": {
    "slideshow": {
     "slide_type": "fragment"
    }
   },
   "source": [
    "```haskell\n",
    "-- haskell: implicit parametric polymorphism\n",
    "let max a b = if a < b then b else a\n",
    "```"
   ]
  },
  {
   "cell_type": "markdown",
   "metadata": {
    "slideshow": {
     "slide_type": "fragment"
    }
   },
   "source": [
    "```python\n",
    "# Python: duck typing\n",
    "def max(a, b):\n",
    "    return b if a < b else a\n",
    "```"
   ]
  },
  {
   "cell_type": "markdown",
   "metadata": {
    "slideshow": {
     "slide_type": "subslide"
    }
   },
   "source": [
    "```c++\n",
    "// C++: subtype polymorphism\n",
    "BaseClass const& Max (BaseClass const& a, BaseClass const& b) {\n",
    "    return a < b ? b:a; \n",
    "}\n",
    "```"
   ]
  },
  {
   "cell_type": "markdown",
   "metadata": {
    "slideshow": {
     "slide_type": "subslide"
    }
   },
   "source": [
    "According to different language implementations,\n",
    "- **What implicit context does the type system provide? 🤔**\n",
    "- **What operations does the type system limit? 🤔**"
   ]
  },
  {
   "cell_type": "markdown",
   "metadata": {
    "slideshow": {
     "slide_type": "slide"
    }
   },
   "source": [
    "## Recap"
   ]
  },
  {
   "cell_type": "markdown",
   "metadata": {
    "slideshow": {
     "slide_type": "subslide"
    }
   },
   "source": [
    "### Everything is an object in Python."
   ]
  },
  {
   "cell_type": "markdown",
   "metadata": {
    "slideshow": {
     "slide_type": "subslide"
    }
   },
   "source": [
    "### PyObject & PyVarObject\n",
    "```c\n",
    "// https://github.com/python/cpython/blob/2.7/Include/object.h#L106\n",
    "typedef struct _object {\n",
    "    PyObject_HEAD\n",
    "} PyObject;\n",
    "\n",
    "typedef struct {\n",
    "    PyObject_VAR_HEAD\n",
    "} PyVarObject;\n",
    "```"
   ]
  },
  {
   "cell_type": "markdown",
   "metadata": {},
   "source": [
    "### PyObject_HEAD\n",
    "```c\n",
    "// https://github.com/python/cpython/blob/2.7/Include/object.h#L78\n",
    "/* PyObject_HEAD defines the initial segment of every PyObject. */\n",
    "#define PyObject_HEAD                   \\\n",
    "    _PyObject_HEAD_EXTRA                \\\n",
    "    Py_ssize_t ob_refcnt;               \\\n",
    "    struct _typeobject *ob_type;\n",
    "```"
   ]
  },
  {
   "cell_type": "markdown",
   "metadata": {
    "slideshow": {
     "slide_type": "fragment"
    }
   },
   "source": [
    "```c\n",
    "// https://github.com/python/cpython/blob/2.7/Include/object.h#L64\n",
    "#ifdef Py_TRACE_REFS\n",
    "/* ... */\n",
    "#else\n",
    "#define _PyObject_HEAD_EXTRA\n",
    "#define _PyObject_EXTRA_INIT\n",
    "#endif\n",
    "```"
   ]
  },
  {
   "cell_type": "markdown",
   "metadata": {
    "slideshow": {
     "slide_type": "subslide"
    }
   },
   "source": [
    "### PyObject_VAR_HEAD\n",
    "```c\n",
    "// https://github.com/python/cpython/blob/2.7/Include/object.h#L96\n",
    "/* PyObject_VAR_HEAD defines the initial segment of all variable-size\n",
    " * container objects. */\n",
    "#define PyObject_VAR_HEAD               \\\n",
    "    PyObject_HEAD                       \\\n",
    "    Py_ssize_t ob_size; /* Number of items in variable part */\n",
    "```"
   ]
  },
  {
   "cell_type": "markdown",
   "metadata": {
    "slideshow": {
     "slide_type": "slide"
    }
   },
   "source": [
    "## Object"
   ]
  },
  {
   "cell_type": "markdown",
   "metadata": {
    "slideshow": {
     "slide_type": "fragment"
    }
   },
   "source": [
    "- Objects are Python’s abstraction for data."
   ]
  },
  {
   "cell_type": "markdown",
   "metadata": {
    "slideshow": {
     "slide_type": "fragment"
    }
   },
   "source": [
    "- Every object has an identity, a <em style=\"color: blue\">type</em> and a value."
   ]
  },
  {
   "cell_type": "markdown",
   "metadata": {
    "slideshow": {
     "slide_type": "skip"
    }
   },
   "source": [
    "- isinstance\n",
    "- issubclass\n",
    "\n",
    "https://github.com/python/cpython/blob/2.7/Objects/abstract.c#L2939\n"
   ]
  },
  {
   "cell_type": "markdown",
   "metadata": {
    "slideshow": {
     "slide_type": "skip"
    }
   },
   "source": [
    "## Type"
   ]
  },
  {
   "cell_type": "markdown",
   "metadata": {
    "slideshow": {
     "slide_type": "skip"
    }
   },
   "source": [
    "### What on earth is the type?"
   ]
  },
  {
   "cell_type": "code",
   "execution_count": 2,
   "metadata": {
    "slideshow": {
     "slide_type": "skip"
    }
   },
   "outputs": [
    {
     "data": {
      "text/plain": [
       "('A', 65)"
      ]
     },
     "execution_count": 2,
     "metadata": {},
     "output_type": "execute_result"
    }
   ],
   "source": [
    "x = 0b01000001\n",
    "chr(x), int(x)"
   ]
  },
  {
   "cell_type": "markdown",
   "metadata": {
    "slideshow": {
     "slide_type": "slide"
    }
   },
   "source": [
    "### Comparison of the type system"
   ]
  },
  {
   "cell_type": "markdown",
   "metadata": {
    "slideshow": {
     "slide_type": "fragment"
    }
   },
   "source": [
    "|Language | Type Safety | Type Expression                                   | Type compatibility and equivalence | Type checking |\n",
    "|---------|-------------|---------------------------------------------------|------------------------------------|-----------|\n",
    "|Python   | Strong      |implicit (with optional explicit typing as of 3.5) | structural | dynamic |\n",
    "|C | weak | explicit | nominal | static |\n",
    "| Java | strong | explicit | nominal | static |"
   ]
  },
  {
   "cell_type": "markdown",
   "metadata": {
    "slideshow": {
     "slide_type": "fragment"
    }
   },
   "source": [
    "https://en.wikipedia.org/wiki/Comparison_of_programming_languages_by_type_system"
   ]
  },
  {
   "cell_type": "markdown",
   "metadata": {
    "slideshow": {
     "slide_type": "slide"
    }
   },
   "source": [
    "### New-style and classic classes"
   ]
  },
  {
   "cell_type": "code",
   "execution_count": 9,
   "metadata": {
    "slideshow": {
     "slide_type": "fragment"
    }
   },
   "outputs": [
    {
     "data": {
      "text/plain": [
       "True"
      ]
     },
     "execution_count": 9,
     "metadata": {},
     "output_type": "execute_result"
    }
   ],
   "source": [
    "class A: pass\n",
    "class B: pass\n",
    "a = A()\n",
    "b = B()\n",
    "type(a) is type(b)"
   ]
  },
  {
   "cell_type": "code",
   "execution_count": 4,
   "metadata": {
    "slideshow": {
     "slide_type": "fragment"
    }
   },
   "outputs": [
    {
     "data": {
      "text/plain": [
       "False"
      ]
     },
     "execution_count": 4,
     "metadata": {},
     "output_type": "execute_result"
    }
   ],
   "source": [
    "class A(object): pass\n",
    "class B(object): pass\n",
    "a = A()\n",
    "b = B()\n",
    "type(a) is type(b)"
   ]
  },
  {
   "cell_type": "markdown",
   "metadata": {
    "slideshow": {
     "slide_type": "subslide"
    }
   },
   "source": [
    "### New-style and classic classes"
   ]
  },
  {
   "cell_type": "markdown",
   "metadata": {
    "slideshow": {
     "slide_type": "fragment"
    }
   },
   "source": [
    "- Up to Python 2.1 <em style=\"color: blue\">the concept of class was unrelated to the concept of type</em>, and old-style classes were the only flavor available.\n",
    "- New-style classes were introduced in Python 2.2 to <em style=\"color: blue\">unify the concepts of class and type</em>.\n",
    "- The major motivation for introducing new-style classes is to <em style=\"color: blue\">provide a unified object model with a full meta-model</em>. It also has a number of practical benefits, like the ability to subclass most built-in types, or the introduction of “descriptors”, which enable computed properties.\n",
    "- For compatibility reasons, classes are still old-style by default. New-style classes are created by specifying another new-style class (i.e. a type) as a parent class, or the “top-level type” object if no other parent is needed.\n",
    "- Old-style classes are removed in Python 3, <em style=\"color: blue\">leaving only new-style classes</em>.\n",
    "\n",
    "\n",
    "- https://docs.python.org/2/reference/datamodel.html#new-style-and-classic-classes\n",
    "- http://python-history.blogspot.sg/2010/06/inside-story-on-new-style-classes.html"
   ]
  },
  {
   "cell_type": "markdown",
   "metadata": {
    "slideshow": {
     "slide_type": "skip"
    }
   },
   "source": [
    "### The first commit to introduce new-style classes\n",
    "https://github.com/python/cpython/commit/6d6c1a35e08b95a83dbe47dbd9e6474daff00354"
   ]
  },
  {
   "cell_type": "markdown",
   "metadata": {
    "slideshow": {
     "slide_type": "subslide"
    }
   },
   "source": [
    "### PyTypeObject\n",
    "\n",
    "```c\n",
    "// https://github.com/python/cpython/blob/2.7/Include/object.h#L324\n",
    "typedef struct _typeobject {\n",
    "    PyObject_VAR_HEAD\n",
    "    const char *tp_name; /* For printing, in format \"<module>.<name>\" */\n",
    "    Py_ssize_t tp_basicsize, tp_itemsize; /* For allocation */\n",
    "\n",
    "    /* Methods to implement standard operations */\n",
    "\n",
    "    destructor tp_dealloc;\n",
    "    printfunc tp_print;\n",
    "    getattrfunc tp_getattr;\n",
    "    setattrfunc tp_setattr;\n",
    "    cmpfunc tp_compare;\n",
    "    reprfunc tp_repr;\n",
    "\n",
    "    /* Method suites for standard classes */\n",
    "\n",
    "    PyNumberMethods *tp_as_number;\n",
    "    PySequenceMethods *tp_as_sequence;\n",
    "    PyMappingMethods *tp_as_mapping;\n",
    "\n",
    "    /* More standard operations (here for binary compatibility) */\n",
    "\n",
    "    hashfunc tp_hash;\n",
    "    ternaryfunc tp_call;\n",
    "    reprfunc tp_str;\n",
    "    getattrofunc tp_getattro;\n",
    "    setattrofunc tp_setattro;\n",
    "\n",
    "    /* Functions to access object as input/output buffer */\n",
    "    PyBufferProcs *tp_as_buffer;\n",
    "\n",
    "    /* Flags to define presence of optional/expanded features */\n",
    "    long tp_flags;\n",
    "\n",
    "    const char *tp_doc; /* Documentation string */\n",
    "\n",
    "    /* Assigned meaning in release 2.0 */\n",
    "    /* call function for all accessible objects */\n",
    "    traverseproc tp_traverse;\n",
    "\n",
    "    /* delete references to contained objects */\n",
    "    inquiry tp_clear;\n",
    "\n",
    "    /* Assigned meaning in release 2.1 */\n",
    "    /* rich comparisons */\n",
    "    richcmpfunc tp_richcompare;\n",
    "\n",
    "    /* weak reference enabler */\n",
    "    Py_ssize_t tp_weaklistoffset;\n",
    "\n",
    "    /* Added in release 2.2 */\n",
    "    /* Iterators */\n",
    "    getiterfunc tp_iter;\n",
    "    iternextfunc tp_iternext;\n",
    "\n",
    "    /* Attribute descriptor and subclassing stuff */\n",
    "    struct PyMethodDef *tp_methods;\n",
    "    struct PyMemberDef *tp_members;\n",
    "    struct PyGetSetDef *tp_getset;\n",
    "    struct _typeobject *tp_base;\n",
    "    PyObject *tp_dict;\n",
    "    descrgetfunc tp_descr_get;\n",
    "    descrsetfunc tp_descr_set;\n",
    "    Py_ssize_t tp_dictoffset;\n",
    "    initproc tp_init;\n",
    "    allocfunc tp_alloc;\n",
    "    newfunc tp_new;\n",
    "    freefunc tp_free; /* Low-level free-memory routine */\n",
    "    inquiry tp_is_gc; /* For PyObject_IS_GC */\n",
    "    PyObject *tp_bases;\n",
    "    PyObject *tp_mro; /* method resolution order */\n",
    "    PyObject *tp_cache;\n",
    "    PyObject *tp_subclasses;\n",
    "    PyObject *tp_weaklist;\n",
    "    destructor tp_del;\n",
    "\n",
    "    /* Type attribute cache version tag. Added in version 2.6 */\n",
    "    unsigned int tp_version_tag;\n",
    "\n",
    "#ifdef COUNT_ALLOCS\n",
    "    /* these must be last and never explicitly initialized */\n",
    "    Py_ssize_t tp_allocs;\n",
    "    Py_ssize_t tp_frees;\n",
    "    Py_ssize_t tp_maxalloc;\n",
    "    struct _typeobject *tp_prev;\n",
    "    struct _typeobject *tp_next;\n",
    "#endif\n",
    "} PyTypeObject;\n",
    "```"
   ]
  },
  {
   "cell_type": "markdown",
   "metadata": {
    "slideshow": {
     "slide_type": "subslide"
    }
   },
   "source": [
    "### What happened when you run following code?"
   ]
  },
  {
   "cell_type": "code",
   "execution_count": 1,
   "metadata": {},
   "outputs": [
    {
     "data": {
      "text/plain": [
       "type"
      ]
     },
     "execution_count": 1,
     "metadata": {},
     "output_type": "execute_result"
    }
   ],
   "source": [
    "type(type)"
   ]
  },
  {
   "cell_type": "markdown",
   "metadata": {
    "slideshow": {
     "slide_type": "subslide"
    }
   },
   "source": [
    "![how python runs programs](images/Entity Relationship Diagram - New Page.png \"How Python runs programs\")"
   ]
  },
  {
   "cell_type": "markdown",
   "metadata": {
    "slideshow": {
     "slide_type": "subslide"
    }
   },
   "source": [
    "```c\n",
    "// https://github.com/python/cpython/blob/2.7/Include/object.h#L324\n",
    "typedef struct _typeobject {\n",
    "    /* ... */\n",
    "    initproc tp_init;\n",
    "    newfunc tp_new;\n",
    "    /* ... */\n",
    "} PyTypeObject;\n",
    "```"
   ]
  },
  {
   "cell_type": "markdown",
   "metadata": {
    "slideshow": {
     "slide_type": "subslide"
    }
   },
   "source": [
    "### Built-in types"
   ]
  },
  {
   "cell_type": "markdown",
   "metadata": {},
   "source": [
    "#### Declaration and initialization\n",
    "```c\n",
    "// https://github.com/python/cpython/blob/2.7/Include/object.h#L441\n",
    "PyAPI_DATA(PyTypeObject) PyType_Type; /* built-in 'type' */\n",
    "\n",
    "// https://github.com/python/cpython/blob/2.7/Objects/typeobject.c#L2870\n",
    "PyTypeObject PyType_Type = {\n",
    "    PyVarObject_HEAD_INIT(&PyType_Type, 0)\n",
    "    \"type\",                                     /* tp_name */\n",
    "    sizeof(PyHeapTypeObject),                   /* tp_basicsize */\n",
    "    sizeof(PyMemberDef),                        /* tp_itemsize */\n",
    "    (destructor)type_dealloc,                   /* tp_dealloc */\n",
    "    0,                                          /* tp_print */\n",
    "    0,                                          /* tp_getattr */\n",
    "    0,                                          /* tp_setattr */\n",
    "    0,                                  /* tp_compare */\n",
    "    (reprfunc)type_repr,                        /* tp_repr */\n",
    "    0,                                          /* tp_as_number */\n",
    "    0,                                          /* tp_as_sequence */\n",
    "    0,                                          /* tp_as_mapping */\n",
    "    (hashfunc)_Py_HashPointer,                  /* tp_hash */\n",
    "    (ternaryfunc)type_call,                     /* tp_call */\n",
    "    0,                                          /* tp_str */\n",
    "    (getattrofunc)type_getattro,                /* tp_getattro */\n",
    "    (setattrofunc)type_setattro,                /* tp_setattro */\n",
    "    0,                                          /* tp_as_buffer */\n",
    "    Py_TPFLAGS_DEFAULT | Py_TPFLAGS_HAVE_GC |\n",
    "        Py_TPFLAGS_BASETYPE | Py_TPFLAGS_TYPE_SUBCLASS,         /* tp_flags */\n",
    "    type_doc,                                   /* tp_doc */\n",
    "    (traverseproc)type_traverse,                /* tp_traverse */\n",
    "    (inquiry)type_clear,                        /* tp_clear */\n",
    "    type_richcompare,                                           /* tp_richcompare */\n",
    "    offsetof(PyTypeObject, tp_weaklist),        /* tp_weaklistoffset */\n",
    "    0,                                          /* tp_iter */\n",
    "    0,                                          /* tp_iternext */\n",
    "    type_methods,                               /* tp_methods */\n",
    "    type_members,                               /* tp_members */\n",
    "    type_getsets,                               /* tp_getset */\n",
    "    0,                                          /* tp_base */\n",
    "    0,                                          /* tp_dict */\n",
    "    0,                                          /* tp_descr_get */\n",
    "    0,                                          /* tp_descr_set */\n",
    "    offsetof(PyTypeObject, tp_dict),            /* tp_dictoffset */\n",
    "    type_init,                                  /* tp_init */\n",
    "    0,                                          /* tp_alloc */\n",
    "    type_new,                                   /* tp_new */\n",
    "    PyObject_GC_Del,                            /* tp_free */\n",
    "    (inquiry)type_is_gc,                        /* tp_is_gc */\n",
    "};\n",
    "```"
   ]
  },
  {
   "cell_type": "markdown",
   "metadata": {},
   "source": [
    "- https://stackoverflow.com/questions/15404256/changing-type-of-python-objects\n",
    "- Builtin-methods: https://github.com/python/cpython/blob/2.7/Python/bltinmodule.c#L2615\n",
    "- _PyBuiltin_Init: https://github.com/python/cpython/blob/2.7/Python/bltinmodule.c#L2678\n",
    "- PyAPI_FUNC & PyAPI_DATA: https://github.com/python/cpython/blob/2.7/Include/pyport.h#L746\n",
    "- PyType_Type declaration: https://github.com/python/cpython/blob/2.7/Include/object.h#L441\n",
    "- PyType_Type assignment: https://github.com/python/cpython/blob/2.7/Objects/typeobject.c#L2870\n",
    "- classmethod & staticmethod: https://github.com/python/cpython/blob/2.7/Objects/funcobject.c\n",
    "- Type annotation: https://www.youtube.com/watch?v=2wDvzy6Hgxg\n",
    "- Float point number: https://en.wikipedia.org/wiki/IEEE_754\n",
    "- Inheritance is not subtyping: https://dl.acm.org/citation.cfm?id=96721"
   ]
  }
 ],
 "metadata": {
  "celltoolbar": "Slideshow",
  "kernelspec": {
   "display_name": "Python 2",
   "language": "python",
   "name": "python2"
  },
  "language_info": {
   "codemirror_mode": {
    "name": "ipython",
    "version": 2
   },
   "file_extension": ".py",
   "mimetype": "text/x-python",
   "name": "python",
   "nbconvert_exporter": "python",
   "pygments_lexer": "ipython2",
   "version": "2.7.14"
  }
 },
 "nbformat": 4,
 "nbformat_minor": 2
}
