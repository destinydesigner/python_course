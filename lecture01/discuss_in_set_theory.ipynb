{
 "cells": [
  {
   "cell_type": "markdown",
   "metadata": {
    "slideshow": {
     "slide_type": "slide"
    }
   },
   "source": [
    "# Everything is an object in Python."
   ]
  },
  {
   "cell_type": "markdown",
   "metadata": {
    "slideshow": {
     "slide_type": "subslide"
    }
   },
   "source": [
    "axioms\n",
    "\n",
    "1. $$ E = \\{e \\mid e\\ is\\ a\\ pointer\\ which\\ point\\ to\\ a\\ piece\\ of\\ memory\\} $$\n",
    "2. $$ O = \\{o \\mid o \\in E \\land (PyObject *)o\\ is\\ valid \\land o->ob\\_type \\in T \\}$$\n",
    "0. $$ T = \\{t \\mid t \\in O \\land (PyTypeObject *)t\\ is\\ valid \\land t->ob\\_type \\in T \\} $$"
   ]
  },
  {
   "cell_type": "markdown",
   "metadata": {
    "slideshow": {
     "slide_type": "subslide"
    }
   },
   "source": [
    "$$ \\forall o.(o \\in O \\land o->ob\\_type == t \\land t \\in T \\implies isinstance(o, t))$$"
   ]
  },
  {
   "cell_type": "markdown",
   "metadata": {
    "slideshow": {
     "slide_type": "subslide"
    }
   },
   "source": [
    "$$\\forall o \\in O \\implies isinstance(o, object) \\quad is \\quad True \\implies PyObject\\_IsInstance(o, object) == 0$$"
   ]
  },
  {
   "cell_type": "markdown",
   "metadata": {
    "slideshow": {
     "slide_type": "slide"
    }
   },
   "source": [
    "When $a \\ne 0$, there are two solutions to \\(ax^2 + bx + c = 0\\) and they are\n",
    "$$x = {-b \\pm \\sqrt{b^2-4ac} \\over 2a}.$$"
   ]
  }
 ],
 "metadata": {
  "celltoolbar": "Slideshow",
  "kernelspec": {
   "display_name": "Python 2",
   "language": "python",
   "name": "python2"
  },
  "language_info": {
   "codemirror_mode": {
    "name": "ipython",
    "version": 2
   },
   "file_extension": ".py",
   "mimetype": "text/x-python",
   "name": "python",
   "nbconvert_exporter": "python",
   "pygments_lexer": "ipython2",
   "version": "2.7.14"
  }
 },
 "nbformat": 4,
 "nbformat_minor": 2
}
