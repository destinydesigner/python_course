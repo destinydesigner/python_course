{
 "cells": [
  {
   "cell_type": "markdown",
   "metadata": {
    "slideshow": {
     "slide_type": "slide"
    }
   },
   "source": [
    "# Welcome to LC102!\n",
    "- Course goals\n",
    "- Course overview\n",
    "- Introduction to Python"
   ]
  },
  {
   "cell_type": "markdown",
   "metadata": {
    "slideshow": {
     "slide_type": "slide"
    }
   },
   "source": [
    "## Course goals\n",
    "- The audience should understand the mechanism of running a Python program.\n",
    "- The audience should understand the underlying structure of the Python objects and Python classes.\n",
    "- The audience should understand the basic techniques and be able to use the properly techniques(inheritance, metaprogramming, functional programming and so on) to implement a specific function elegantly and quickly."
   ]
  },
  {
   "cell_type": "markdown",
   "metadata": {
    "slideshow": {
     "slide_type": "slide"
    }
   },
   "source": [
    "## Course overview"
   ]
  },
  {
   "cell_type": "markdown",
   "metadata": {
    "slideshow": {
     "slide_type": "subslide"
    }
   },
   "source": [
    "### Prerequisite\n",
    "\n",
    "- C programming basics\n",
    "- Python syntax basics\n",
    "- Fundamental programming language concepts\n",
    "    \n",
    "    - syntax and semantics\n",
    "    - typing system\n",
    "    - programming paradigms"
   ]
  },
  {
   "cell_type": "markdown",
   "metadata": {
    "slideshow": {
     "slide_type": "subslide"
    }
   },
   "source": [
    "### Course Resources\n",
    "\n",
    "- https://git.garena.com/fanggj/LC102-Python\n",
    "- Comments\n",
    "- References"
   ]
  },
  {
   "cell_type": "markdown",
   "metadata": {
    "slideshow": {
     "slide_type": "subslide"
    }
   },
   "source": [
    "### Practice\n",
    "\n",
    "- Tweak and run the codes by yourself."
   ]
  },
  {
   "cell_type": "markdown",
   "metadata": {
    "slideshow": {
     "slide_type": "subslide"
    }
   },
   "source": [
    "If you have any questions in the meantime, feel free to email me at [fanggj@seagroup.com](mailto:fanggj@seagroup.com) with questions."
   ]
  },
  {
   "cell_type": "markdown",
   "metadata": {
    "slideshow": {
     "slide_type": "slide"
    }
   },
   "source": [
    "# Introduction to Python"
   ]
  },
  {
   "cell_type": "markdown",
   "metadata": {
    "slideshow": {
     "slide_type": "slide"
    }
   },
   "source": [
    "## Python Test\n"
   ]
  },
  {
   "cell_type": "markdown",
   "metadata": {
    "slideshow": {
     "slide_type": "subslide"
    }
   },
   "source": [
    "### Question 1 - What's the output?"
   ]
  },
  {
   "cell_type": "code",
   "execution_count": 1,
   "metadata": {
    "slideshow": {
     "slide_type": "-"
    }
   },
   "outputs": [
    {
     "name": "stdout",
     "output_type": "stream",
     "text": [
      "10\n"
     ]
    }
   ],
   "source": [
    "x = 1\n",
    "\n",
    "def foo():\n",
    "    print(x)\n",
    "    \n",
    "x = 10\n",
    "\n",
    "foo()"
   ]
  },
  {
   "cell_type": "markdown",
   "metadata": {
    "slideshow": {
     "slide_type": "subslide"
    }
   },
   "source": [
    "### Question 2 - What's the output?"
   ]
  },
  {
   "cell_type": "code",
   "execution_count": 1,
   "metadata": {
    "slideshow": {
     "slide_type": "-"
    }
   },
   "outputs": [
    {
     "name": "stdout",
     "output_type": "stream",
     "text": [
      "[5]\n",
      "[5, 5]\n"
     ]
    }
   ],
   "source": [
    "def a():\n",
    "    return []\n",
    "    \n",
    "def b(x=a()):\n",
    "    x.append(5)\n",
    "    print(x)\n",
    "    \n",
    "b()\n",
    "b()"
   ]
  },
  {
   "cell_type": "markdown",
   "metadata": {
    "slideshow": {
     "slide_type": "notes"
    }
   },
   "source": [
    "Some essential concepts here are **name binding time**, **object creation**, **passing by reference** and **Mutability**.\n",
    "\n",
    "Assignment is one of the ways of constructing bind names. When the definition of function `b` being evaluated, the `a()` will be evaluated also and the value will be bound to function default parameter `x`.\n",
    "\n",
    "In function `a`, a list will be created as a literal each time the function is called. As all parameters in Python is passing by reference, so the `x` refers to the list which is created by function `a`.\n",
    "\n",
    "Actually, the function default parameters(func_defaults) are recorded in a tuple. Now, you might encounter the **mutability** problem."
   ]
  },
  {
   "cell_type": "markdown",
   "metadata": {
    "slideshow": {
     "slide_type": "notes"
    }
   },
   "source": [
    "To solve the mutable object in func_defaults, the standard way is to set the default value as `None` object, then check if the parameter is `None` object or not.\n",
    "\n",
    "If the parameter is `None`, which is a global unique built-in object, that means we should set the appropriate default value to this parameter. For example:"
   ]
  },
  {
   "cell_type": "code",
   "execution_count": 4,
   "metadata": {
    "slideshow": {
     "slide_type": "notes"
    }
   },
   "outputs": [
    {
     "name": "stdout",
     "output_type": "stream",
     "text": [
      "[5]\n",
      "[5]\n"
     ]
    }
   ],
   "source": [
    "def a():\n",
    "    return []\n",
    "    \n",
    "def b(x=None):\n",
    "    if x is None:\n",
    "        x = a()\n",
    "    x.append(5)\n",
    "    print(x)\n",
    "    \n",
    "b()\n",
    "b()"
   ]
  },
  {
   "cell_type": "markdown",
   "metadata": {
    "slideshow": {
     "slide_type": "subslide"
    }
   },
   "source": [
    "### Question 3 - What's the output?"
   ]
  },
  {
   "cell_type": "markdown",
   "metadata": {
    "slideshow": {
     "slide_type": "-"
    }
   },
   "source": [
    "```python\n",
    "# q3/a.py\n",
    "print(__name__)\n",
    "import a as spam\n",
    "import b\n",
    "```"
   ]
  },
  {
   "cell_type": "markdown",
   "metadata": {
    "slideshow": {
     "slide_type": "-"
    }
   },
   "source": [
    "```python\n",
    "# q3/b.py\n",
    "print(__name__)\n",
    "import a\n",
    "```"
   ]
  },
  {
   "cell_type": "code",
   "execution_count": 73,
   "metadata": {
    "slideshow": {
     "slide_type": "subslide"
    }
   },
   "outputs": [
    {
     "name": "stdout",
     "output_type": "stream",
     "text": [
      "__main__\n",
      "a\n",
      "b\n",
      "\n"
     ]
    }
   ],
   "source": [
    "# run as shell command `python q3/a.py`\n",
    "import subprocess\n",
    "print(subprocess.check_output(\"python q3/a.py; exit 0\", shell=True, stderr=subprocess.STDOUT))"
   ]
  },
  {
   "cell_type": "markdown",
   "metadata": {
    "slideshow": {
     "slide_type": "subslide"
    }
   },
   "source": [
    "### Question 4 - What's the output?"
   ]
  },
  {
   "cell_type": "markdown",
   "metadata": {},
   "source": [
    "```python\n",
    "# q4/a.py\n",
    "print(__name__)\n",
    "import a as spam\n",
    "import b\n",
    "```"
   ]
  },
  {
   "cell_type": "markdown",
   "metadata": {},
   "source": [
    "```python\n",
    "# q4/b.py\n",
    "print(__name__)\n",
    "from a import b\n",
    "```"
   ]
  },
  {
   "cell_type": "code",
   "execution_count": 74,
   "metadata": {
    "slideshow": {
     "slide_type": "subslide"
    }
   },
   "outputs": [
    {
     "name": "stdout",
     "output_type": "stream",
     "text": [
      "__main__\n",
      "a\n",
      "b\n",
      "Traceback (most recent call last):\n",
      "  File \"q4/a.py\", line 2, in <module>\n",
      "    import a as spam\n",
      "  File \"/Users/fanggj/gitrepo/LC102-Python/lecture00/q4/a.py\", line 3, in <module>\n",
      "    import b\n",
      "  File \"/Users/fanggj/gitrepo/LC102-Python/lecture00/q4/b.py\", line 2, in <module>\n",
      "    from a import b\n",
      "ImportError: cannot import name b\n",
      "\n"
     ]
    }
   ],
   "source": [
    "# run as shell command `python q4/a.py`\n",
    "import subprocess\n",
    "print(subprocess.check_output(\"python q4/a.py; exit 0\", shell=True, stderr=subprocess.STDOUT))"
   ]
  },
  {
   "cell_type": "markdown",
   "metadata": {
    "slideshow": {
     "slide_type": "subslide"
    }
   },
   "source": [
    "### Question 5 - What's the output?"
   ]
  },
  {
   "cell_type": "code",
   "execution_count": 5,
   "metadata": {},
   "outputs": [
    {
     "name": "stdout",
     "output_type": "stream",
     "text": [
      "<type 'function'>\n",
      "<type 'int'>\n",
      "<type 'instancemethod'>\n",
      "<type 'function'>\n",
      "<type 'instancemethod'>\n"
     ]
    }
   ],
   "source": [
    "def foo(*args, **kwargs): pass\n",
    "    \n",
    "class A(object):\n",
    "    foo = 1\n",
    "\n",
    "print(type(foo))\n",
    "\n",
    "a = A()\n",
    "print(type(a.foo))\n",
    "\n",
    "A.foo = foo\n",
    "print(type(a.foo))\n",
    "\n",
    "a.foo = foo\n",
    "print(type(a.foo))\n",
    "print(type(A.foo))"
   ]
  },
  {
   "cell_type": "markdown",
   "metadata": {
    "slideshow": {
     "slide_type": "subslide"
    }
   },
   "source": [
    "### Python Test Review\n"
   ]
  },
  {
   "cell_type": "code",
   "execution_count": null,
   "metadata": {
    "slideshow": {
     "slide_type": "-"
    }
   },
   "outputs": [],
   "source": [
    "(0, 'Please take this course.')\n",
    "(1, 'Please take this course.')\n",
    "(2, 'You can be benefited from this course.')\n",
    "(3, 'You can be benefited from this course.')\n",
    "(4, 'You can be benefited from this course.')\n",
    "(5, 'Pretty good!')"
   ]
  },
  {
   "cell_type": "markdown",
   "metadata": {
    "slideshow": {
     "slide_type": "slide"
    }
   },
   "source": [
    "## Agenda\n",
    "\n",
    "- Overview\n",
    "- Execution Model\n",
    "- Top-level components"
   ]
  },
  {
   "cell_type": "markdown",
   "metadata": {
    "slideshow": {
     "slide_type": "slide"
    }
   },
   "source": [
    "## Overview"
   ]
  },
  {
   "cell_type": "markdown",
   "metadata": {
    "slideshow": {
     "slide_type": "subslide"
    }
   },
   "source": [
    "### Language Perspective"
   ]
  },
  {
   "cell_type": "markdown",
   "metadata": {
    "slideshow": {
     "slide_type": "fragment"
    }
   },
   "source": [
    "- Interpreted language (<em style=\"color: blue\">Interpreter</em>)"
   ]
  },
  {
   "cell_type": "markdown",
   "metadata": {
    "slideshow": {
     "slide_type": "fragment"
    }
   },
   "source": [
    "- Readability (Syntax & Pythonic style)"
   ]
  },
  {
   "cell_type": "markdown",
   "metadata": {
    "slideshow": {
     "slide_type": "notes"
    }
   },
   "source": [
    "Braces, brackets, and parentheses https://www.cis.upenn.edu/~matuszek/General/JavaSyntax/parentheses.html"
   ]
  },
  {
   "cell_type": "markdown",
   "metadata": {
    "slideshow": {
     "slide_type": "fragment"
    }
   },
   "source": [
    "- Strong, dynamic & duck typing"
   ]
  },
  {
   "cell_type": "markdown",
   "metadata": {
    "slideshow": {
     "slide_type": "fragment"
    }
   },
   "source": [
    "- Multiple paradigms (OO, procedural, functional)"
   ]
  },
  {
   "cell_type": "markdown",
   "metadata": {
    "slideshow": {
     "slide_type": "fragment"
    }
   },
   "source": [
    "- Memory management (GC, <em style=\"color: blue\">Reference counting</em> and so on)"
   ]
  },
  {
   "cell_type": "markdown",
   "metadata": {
    "slideshow": {
     "slide_type": "notes"
    }
   },
   "source": [
    "With normal typing, suitability is assumed to be determined by an object's type only. In duck typing, an object's suitability is determined by the presence of certain methods and properties (with appropriate meaning), rather than the actual type of the object."
   ]
  },
  {
   "cell_type": "markdown",
   "metadata": {
    "slideshow": {
     "slide_type": "subslide"
    }
   },
   "source": [
    "### Implementations\n",
    "- <em style='color: blue'>CPython</em>\n",
    "- PyPy\n",
    "- Jython\n",
    "- IronPython\n"
   ]
  },
  {
   "cell_type": "markdown",
   "metadata": {
    "slideshow": {
     "slide_type": "subslide"
    }
   },
   "source": [
    "### Extension\n",
    "- Cython\n",
    "    \n",
    "    Cython is an optimising static compiler for both the Python programming language and the extended Cython programming language (based on Pyrex)."
   ]
  },
  {
   "cell_type": "markdown",
   "metadata": {
    "slideshow": {
     "slide_type": "subslide"
    }
   },
   "source": [
    "### Versions\n",
    "- There are Python2 and Python3\n",
    "- They are incompatible.\n",
    "- Fundamental changes:\n",
    "    \n",
    "    - some syntax ('print', 'yield from' ...)\n",
    "    - implementation details (str, bound methods, dictionary view object …)\n",
    "    - ...\n"
   ]
  },
  {
   "cell_type": "markdown",
   "metadata": {
    "slideshow": {
     "slide_type": "notes"
    }
   },
   "source": [
    "str and unicode\n",
    "In February 1991, the code(labeled version 0.9.0) of CPython was published.\n",
    "In October 1991, the first volume of the Unicode standard was published."
   ]
  },
  {
   "cell_type": "markdown",
   "metadata": {
    "slideshow": {
     "slide_type": "subslide"
    }
   },
   "source": [
    "### Philosophy"
   ]
  },
  {
   "cell_type": "code",
   "execution_count": 6,
   "metadata": {
    "slideshow": {
     "slide_type": "-"
    }
   },
   "outputs": [
    {
     "name": "stdout",
     "output_type": "stream",
     "text": [
      "The Zen of Python, by Tim Peters\n",
      "\n",
      "Beautiful is better than ugly.\n",
      "Explicit is better than implicit.\n",
      "Simple is better than complex.\n",
      "Complex is better than complicated.\n",
      "Flat is better than nested.\n",
      "Sparse is better than dense.\n",
      "Readability counts.\n",
      "Special cases aren't special enough to break the rules.\n",
      "Although practicality beats purity.\n",
      "Errors should never pass silently.\n",
      "Unless explicitly silenced.\n",
      "In the face of ambiguity, refuse the temptation to guess.\n",
      "There should be one-- and preferably only one --obvious way to do it.\n",
      "Although that way may not be obvious at first unless you're Dutch.\n",
      "Now is better than never.\n",
      "Although never is often better than *right* now.\n",
      "If the implementation is hard to explain, it's a bad idea.\n",
      "If the implementation is easy to explain, it may be a good idea.\n",
      "Namespaces are one honking great idea -- let's do more of those!\n"
     ]
    }
   ],
   "source": [
    "import this"
   ]
  },
  {
   "cell_type": "markdown",
   "metadata": {
    "slideshow": {
     "slide_type": "subslide"
    }
   },
   "source": [
    "### Everything is an object in Python."
   ]
  },
  {
   "cell_type": "markdown",
   "metadata": {
    "slideshow": {
     "slide_type": "subslide"
    }
   },
   "source": [
    "### PyObject & PyVarObject\n",
    "```c\n",
    "// https://github.com/python/cpython/blob/2.7/Include/object.h#L106\n",
    "typedef struct _object {\n",
    "    PyObject_HEAD\n",
    "} PyObject;\n",
    "\n",
    "typedef struct {\n",
    "    PyObject_VAR_HEAD\n",
    "} PyVarObject;\n",
    "```"
   ]
  },
  {
   "cell_type": "markdown",
   "metadata": {
    "slideshow": {
     "slide_type": "subslide"
    }
   },
   "source": [
    "### PyObject_HEAD\n",
    "```c\n",
    "// https://github.com/python/cpython/blob/2.7/Include/object.h#L78\n",
    "/* PyObject_HEAD defines the initial segment of every PyObject. */\n",
    "#define PyObject_HEAD                   \\\n",
    "    _PyObject_HEAD_EXTRA                \\\n",
    "    Py_ssize_t ob_refcnt;               \\\n",
    "    struct _typeobject *ob_type;\n",
    "```"
   ]
  },
  {
   "cell_type": "markdown",
   "metadata": {
    "slideshow": {
     "slide_type": "fragment"
    }
   },
   "source": [
    "```c\n",
    "// https://github.com/python/cpython/blob/2.7/Include/object.h#L64\n",
    "#ifdef Py_TRACE_REFS\n",
    "/* ... */\n",
    "#else\n",
    "#define _PyObject_HEAD_EXTRA\n",
    "#define _PyObject_EXTRA_INIT\n",
    "#endif\n",
    "```"
   ]
  },
  {
   "cell_type": "markdown",
   "metadata": {
    "slideshow": {
     "slide_type": "subslide"
    }
   },
   "source": [
    "### PyObject_VAR_HEAD\n",
    "```c\n",
    "// https://github.com/python/cpython/blob/2.7/Include/object.h#L96\n",
    "/* PyObject_VAR_HEAD defines the initial segment of all variable-size\n",
    " * container objects. */\n",
    "#define PyObject_VAR_HEAD               \\\n",
    "    PyObject_HEAD                       \\\n",
    "    Py_ssize_t ob_size; /* Number of items in variable part */\n",
    "```"
   ]
  },
  {
   "cell_type": "markdown",
   "metadata": {
    "slideshow": {
     "slide_type": "subslide"
    }
   },
   "source": [
    "#### We will discuss object & type in later lecture. 🙂"
   ]
  },
  {
   "cell_type": "markdown",
   "metadata": {
    "slideshow": {
     "slide_type": "subslide"
    }
   },
   "source": [
    "### Overview Recap ☕️"
   ]
  },
  {
   "cell_type": "markdown",
   "metadata": {
    "slideshow": {
     "slide_type": "fragment"
    }
   },
   "source": [
    "Python is an interpreted high-level programming language for general-purpose programming."
   ]
  },
  {
   "cell_type": "markdown",
   "metadata": {
    "slideshow": {
     "slide_type": "fragment"
    }
   },
   "source": [
    "Python features a dynamic type system and automatic memory management. It supports multiple programming paradigms, including object-oriented, imperative, functional and procedural, and has a large and comprehensive standard library."
   ]
  },
  {
   "cell_type": "markdown",
   "metadata": {
    "slideshow": {
     "slide_type": "fragment"
    }
   },
   "source": [
    "Everything is an object in Python."
   ]
  },
  {
   "cell_type": "markdown",
   "metadata": {
    "slideshow": {
     "slide_type": "slide"
    }
   },
   "source": [
    "## Execution Model"
   ]
  },
  {
   "cell_type": "markdown",
   "metadata": {
    "slideshow": {
     "slide_type": "subslide"
    }
   },
   "source": [
    "### How Python runs programs\n",
    "![how python runs programs](images/illustration1.png \"How Python runs programs\")"
   ]
  },
  {
   "cell_type": "markdown",
   "metadata": {
    "slideshow": {
     "slide_type": "subslide"
    }
   },
   "source": [
    "### Essential concepts\n",
    "\n",
    "- Execution model\n",
    "    - Code Blocks\n",
    "    - Execution Frame\n",
    "    - Name\n",
    "    - Scope"
   ]
  },
  {
   "cell_type": "markdown",
   "metadata": {
    "slideshow": {
     "slide_type": "slide"
    }
   },
   "source": [
    "## Code blocks"
   ]
  },
  {
   "cell_type": "markdown",
   "metadata": {
    "slideshow": {
     "slide_type": "subslide"
    }
   },
   "source": [
    "### Definition in natural language\n",
    "\n",
    "A <em style=\"color: blue\">block</em> is a piece of Python program text that is executed as a unit."
   ]
  },
  {
   "cell_type": "markdown",
   "metadata": {
    "slideshow": {
     "slide_type": "fragment"
    }
   },
   "source": [
    "The following are blocks:\n",
    "- a module,\n",
    "- a function body,\n",
    "- a class definition,\n",
    "- each command typed interactively,\n",
    "- a script file (standard input or command line argument),\n",
    "- a script command('-c' option),\n",
    "- a string argument passed to the built-in functions eval() and exec(),\n",
    "- an expression read and evaluated by the built-in function input()."
   ]
  },
  {
   "cell_type": "markdown",
   "metadata": {
    "slideshow": {
     "slide_type": "subslide"
    }
   },
   "source": [
    "### Definition in C programming language\n",
    "\n",
    "```C\n",
    "// https://github.com/python/cpython/blob/2.7/Include/code.h#L9\n",
    "typedef struct {\n",
    "    PyObject_HEAD\n",
    "    int co_argcount;        /* #arguments, except *args */\n",
    "    int co_nlocals;     /* #local variables */\n",
    "    int co_stacksize;       /* #entries needed for evaluation stack */\n",
    "    int co_flags;       /* CO_..., see below */\n",
    "    PyObject *co_code;      /* instruction opcodes */\n",
    "    PyObject *co_consts;    /* list (constants used) */\n",
    "    PyObject *co_names;     /* list of strings (names used) */\n",
    "    PyObject *co_varnames;  /* tuple of strings (local variable names) */\n",
    "    PyObject *co_freevars;  /* tuple of strings (free variable names) */\n",
    "    PyObject *co_cellvars;      /* tuple of strings (cell variable names) */\n",
    "    /* The rest doesn't count for hash/cmp */\n",
    "    PyObject *co_filename;  /* string (where it was loaded from) */\n",
    "    PyObject *co_name;      /* string (name, for reference) */\n",
    "    int co_firstlineno;     /* first source line number */\n",
    "    PyObject *co_lnotab;    /* string (encoding addr<->lineno mapping) See Objects/lnotab_notes.txt for details. */\n",
    "    void *co_zombieframe;     /* for optimization only (see frameobject.c) */\n",
    "    PyObject *co_weakreflist;   /* to support weakrefs to code objects */\n",
    "} PyCodeObject;\n",
    "```"
   ]
  },
  {
   "cell_type": "markdown",
   "metadata": {
    "slideshow": {
     "slide_type": "subslide"
    }
   },
   "source": [
    "### Useful tools\n",
    "- dis(module)\n",
    "    - Brief reference of opcode. https://docs.python.org/2/library/dis.html\n",
    "- compile(function)\n",
    "- exec(function or statement)\n",
    "- inspect(module)"
   ]
  },
  {
   "cell_type": "markdown",
   "metadata": {
    "slideshow": {
     "slide_type": "skip"
    }
   },
   "source": [
    "https://stackoverflow.com/questions/12673074/how-should-i-understand-the-output-of-dis-dis"
   ]
  },
  {
   "cell_type": "markdown",
   "metadata": {
    "slideshow": {
     "slide_type": "notes"
    }
   },
   "source": [
    "```python\n",
    "# code_block/mymodule.py\n",
    "class A(object):\n",
    "    bar = 1\n",
    "\n",
    "\n",
    "def fib(n):\n",
    "    if n <= 1:\n",
    "        return 1\n",
    "    result = fib(n-1) + fib(n-2)\n",
    "    return result\n",
    "\n",
    "\n",
    "def decorator(func):\n",
    "    x = 10\n",
    "    def inner(*args, **kwargs):\n",
    "        print(x)\n",
    "        return func(*args, **kwargs)\n",
    "    return inner\n",
    "\n",
    "\n",
    "x = 1\n",
    "```"
   ]
  },
  {
   "cell_type": "code",
   "execution_count": 7,
   "metadata": {
    "scrolled": true,
    "slideshow": {
     "slide_type": "subslide"
    }
   },
   "outputs": [
    {
     "name": "stdout",
     "output_type": "stream",
     "text": [
      "  1           0 LOAD_CONST               0 ('A')\n",
      "              3 LOAD_NAME                0 (object)\n",
      "              6 BUILD_TUPLE              1\n",
      "              9 LOAD_CONST               1 (<code object A at 0x10bfa0930, file \"code_block/mymodule.py\", line 1>)\n",
      "             12 MAKE_FUNCTION            0\n",
      "             15 CALL_FUNCTION            0\n",
      "             18 BUILD_CLASS         \n",
      "             19 STORE_NAME               1 (A)\n",
      "\n",
      "  5          22 LOAD_CONST               2 (<code object fib at 0x10bfa05b0, file \"code_block/mymodule.py\", line 5>)\n",
      "             25 MAKE_FUNCTION            0\n",
      "             28 STORE_NAME               2 (fib)\n",
      "\n",
      " 12          31 LOAD_CONST               3 (<code object decorator at 0x10bfa0b30, file \"code_block/mymodule.py\", line 12>)\n",
      "             34 MAKE_FUNCTION            0\n",
      "             37 STORE_NAME               3 (decorator)\n",
      "\n",
      " 20          40 LOAD_CONST               4 (1)\n",
      "             43 STORE_NAME               4 (x)\n",
      "             46 LOAD_CONST               5 (None)\n",
      "             49 RETURN_VALUE        \n"
     ]
    }
   ],
   "source": [
    "# code object of a module\n",
    "import sys\n",
    "from code_block import mymodule\n",
    "mymodule??\n",
    "\n",
    "import helper\n",
    "# Python 3.6: code_block/__pycache__/mymodule.cpython-36.pyc\n",
    "# Python 2.x: code_block/mymodule.pyc\n",
    "pycfile = 'code_block/mymodule.pyc' if sys.version_info[0] <=2 else 'code_block/__pycache__/mymodule.cpython-36.pyc'\n",
    "module_code = helper.load_code_object_from_pyc(pycfile)\n",
    "\n",
    "import dis\n",
    "dis.dis(module_code)"
   ]
  },
  {
   "cell_type": "code",
   "execution_count": 8,
   "metadata": {
    "slideshow": {
     "slide_type": "subslide"
    }
   },
   "outputs": [
    {
     "name": "stdout",
     "output_type": "stream",
     "text": [
      "  6           0 LOAD_FAST                0 (n)\n",
      "              3 LOAD_CONST               1 (1)\n",
      "              6 COMPARE_OP               1 (<=)\n",
      "              9 POP_JUMP_IF_FALSE       16\n",
      "\n",
      "  7          12 LOAD_CONST               1 (1)\n",
      "             15 RETURN_VALUE        \n",
      "\n",
      "  8     >>   16 LOAD_GLOBAL              0 (fib)\n",
      "             19 LOAD_FAST                0 (n)\n",
      "             22 LOAD_CONST               1 (1)\n",
      "             25 BINARY_SUBTRACT     \n",
      "             26 CALL_FUNCTION            1\n",
      "             29 LOAD_GLOBAL              0 (fib)\n",
      "             32 LOAD_FAST                0 (n)\n",
      "             35 LOAD_CONST               2 (2)\n",
      "             38 BINARY_SUBTRACT     \n",
      "             39 CALL_FUNCTION            1\n",
      "             42 BINARY_ADD          \n",
      "             43 STORE_FAST               1 (result)\n",
      "\n",
      "  9          46 LOAD_FAST                1 (result)\n",
      "             49 RETURN_VALUE        \n"
     ]
    }
   ],
   "source": [
    "# code object of a function\n",
    "dis.dis(mymodule.fib.__code__)"
   ]
  },
  {
   "cell_type": "code",
   "execution_count": 9,
   "metadata": {
    "slideshow": {
     "slide_type": "subslide"
    }
   },
   "outputs": [
    {
     "name": "stdout",
     "output_type": "stream",
     "text": [
      " 13           0 LOAD_CONST               1 (10)\n",
      "              3 STORE_DEREF              1 (x)\n",
      "\n",
      " 14           6 LOAD_CLOSURE             0 (func)\n",
      "              9 LOAD_CLOSURE             1 (x)\n",
      "             12 BUILD_TUPLE              2\n",
      "             15 LOAD_CONST               2 (<code object inner at 0x10bfa0830, file \"code_block/mymodule.py\", line 14>)\n",
      "             18 MAKE_CLOSURE             0\n",
      "             21 STORE_FAST               1 (inner)\n",
      "\n",
      " 17          24 LOAD_FAST                1 (inner)\n",
      "             27 RETURN_VALUE        \n"
     ]
    }
   ],
   "source": [
    "# code object of a function\n",
    "dis.dis(mymodule.decorator.__code__)"
   ]
  },
  {
   "cell_type": "code",
   "execution_count": 10,
   "metadata": {
    "slideshow": {
     "slide_type": "subslide"
    }
   },
   "outputs": [
    {
     "name": "stdout",
     "output_type": "stream",
     "text": [
      " 15           0 LOAD_DEREF               1 (x)\n",
      "              3 PRINT_ITEM          \n",
      "              4 PRINT_NEWLINE       \n",
      "\n",
      " 16           5 LOAD_DEREF               0 (func)\n",
      "              8 LOAD_FAST                0 (args)\n",
      "             11 LOAD_FAST                1 (kwargs)\n",
      "             14 CALL_FUNCTION_VAR_KW     0\n",
      "             17 RETURN_VALUE        \n"
     ]
    }
   ],
   "source": [
    "# code object of a function\n",
    "inner_code = helper.get_object_by_id( ... )\n",
    "dis.dis(inner_code)"
   ]
  },
  {
   "cell_type": "code",
   "execution_count": 11,
   "metadata": {
    "slideshow": {
     "slide_type": "subslide"
    }
   },
   "outputs": [
    {
     "name": "stdout",
     "output_type": "stream",
     "text": [
      "  1           0 LOAD_NAME                0 (__name__)\n",
      "              3 STORE_NAME               1 (__module__)\n",
      "\n",
      "  2           6 LOAD_CONST               0 (1)\n",
      "              9 STORE_NAME               2 (bar)\n",
      "             12 LOAD_LOCALS         \n",
      "             13 RETURN_VALUE        \n"
     ]
    }
   ],
   "source": [
    "# code object of a class\n",
    "class_code = helper.get_object_by_id( ... )\n",
    "dis.dis(class_code)"
   ]
  },
  {
   "cell_type": "markdown",
   "metadata": {
    "slideshow": {
     "slide_type": "subslide"
    }
   },
   "source": [
    "### Naming and binding\n",
    "\n",
    "Names refer to objects. Names are introduced by name binding operations.\n"
   ]
  },
  {
   "cell_type": "markdown",
   "metadata": {
    "slideshow": {
     "slide_type": "fragment"
    }
   },
   "source": [
    "The following constructs bind names:\n",
    "- formal parameters to functions,\n",
    "- import statements,\n",
    "- class and function definitions,\n",
    "- and targets that are identifiers if occuring in an assignment,\n",
    "- for loop header,\n",
    "- or after as in a with statement or except clause."
   ]
  },
  {
   "cell_type": "markdown",
   "metadata": {
    "slideshow": {
     "slide_type": "subslide"
    }
   },
   "source": [
    "### Examples"
   ]
  },
  {
   "cell_type": "code",
   "execution_count": 12,
   "metadata": {
    "slideshow": {
     "slide_type": "subslide"
    }
   },
   "outputs": [
    {
     "name": "stdout",
     "output_type": "stream",
     "text": [
      "{'co_cellvars': (),\n",
      " 'co_consts': ('A',\n",
      "               <code object A at 0x10bfa0930, file \"code_block/mymodule.py\", line 1>,\n",
      "               <code object fib at 0x10bfa05b0, file \"code_block/mymodule.py\", line 5>,\n",
      "               <code object decorator at 0x10bfa0b30, file \"code_block/mymodule.py\", line 12>,\n",
      "               1,\n",
      "               None),\n",
      " 'co_freevars': (),\n",
      " 'co_names': ('object', 'A', 'fib', 'decorator', 'x'),\n",
      " 'co_varnames': ()}\n"
     ]
    }
   ],
   "source": [
    "helper.print_code_names(module_code)\n",
    "mymodule??"
   ]
  },
  {
   "cell_type": "code",
   "execution_count": 13,
   "metadata": {
    "slideshow": {
     "slide_type": "subslide"
    }
   },
   "outputs": [
    {
     "name": "stdout",
     "output_type": "stream",
     "text": [
      "{'co_cellvars': (),\n",
      " 'co_consts': (None, 1, 2),\n",
      " 'co_freevars': (),\n",
      " 'co_names': ('fib',),\n",
      " 'co_varnames': ('n', 'result')}\n"
     ]
    }
   ],
   "source": [
    "helper.print_code_names(mymodule.fib.__code__)"
   ]
  },
  {
   "cell_type": "code",
   "execution_count": 14,
   "metadata": {
    "slideshow": {
     "slide_type": "subslide"
    }
   },
   "outputs": [
    {
     "name": "stdout",
     "output_type": "stream",
     "text": [
      "{'co_cellvars': (),\n",
      " 'co_consts': (1,),\n",
      " 'co_freevars': (),\n",
      " 'co_names': ('__name__', '__module__', 'bar'),\n",
      " 'co_varnames': ()}\n"
     ]
    }
   ],
   "source": [
    "helper.print_code_names(class_code)"
   ]
  },
  {
   "cell_type": "code",
   "execution_count": 15,
   "metadata": {
    "slideshow": {
     "slide_type": "subslide"
    }
   },
   "outputs": [
    {
     "name": "stdout",
     "output_type": "stream",
     "text": [
      "{'co_cellvars': ('func', 'x'),\n",
      " 'co_consts': (None,\n",
      "               10,\n",
      "               <code object inner at 0x10bfa0830, file \"code_block/mymodule.py\", line 14>),\n",
      " 'co_freevars': (),\n",
      " 'co_names': (),\n",
      " 'co_varnames': ('func', 'inner')}\n"
     ]
    }
   ],
   "source": [
    "helper.print_code_names(mymodule.decorator.__code__)"
   ]
  },
  {
   "cell_type": "code",
   "execution_count": 16,
   "metadata": {
    "slideshow": {
     "slide_type": "subslide"
    }
   },
   "outputs": [
    {
     "name": "stdout",
     "output_type": "stream",
     "text": [
      "{'co_cellvars': (),\n",
      " 'co_consts': (None,),\n",
      " 'co_freevars': ('func', 'x'),\n",
      " 'co_names': (),\n",
      " 'co_varnames': ('args', 'kwargs')}\n"
     ]
    }
   ],
   "source": [
    "helper.print_code_names(inner_code)"
   ]
  },
  {
   "cell_type": "markdown",
   "metadata": {
    "slideshow": {
     "slide_type": "subslide"
    }
   },
   "source": [
    "#### We will discuss naming and binding in later lecture. 🙂"
   ]
  },
  {
   "cell_type": "markdown",
   "metadata": {
    "slideshow": {
     "slide_type": "slide"
    }
   },
   "source": [
    "## Execution frame"
   ]
  },
  {
   "cell_type": "markdown",
   "metadata": {
    "slideshow": {
     "slide_type": "subslide"
    }
   },
   "source": [
    "### Definition in natural language\n",
    "\n",
    "A code block is executed in an <em style=\"color: blue\">execution frame</em>.\n",
    "\n",
    "A frame contains some administrative information(used for debugging) and determines where and how execution continues after the code block's execution has completed."
   ]
  },
  {
   "cell_type": "markdown",
   "metadata": {
    "slideshow": {
     "slide_type": "subslide"
    }
   },
   "source": [
    "### Definition in C programming language\n",
    "\n",
    "```c\n",
    "// https://github.com/python/cpython/blob/2.7/Include/frameobject.h#L16\n",
    "typedef struct _frame {\n",
    "    PyObject_VAR_HEAD\n",
    "    struct _frame *f_back;  /* previous frame, or NULL */\n",
    "    PyCodeObject *f_code;   /* code segment */\n",
    "    PyObject *f_builtins;   /* builtin symbol table (PyDictObject) */\n",
    "    PyObject *f_globals;    /* global symbol table (PyDictObject) */\n",
    "    PyObject *f_locals;     /* local symbol table (any mapping) */\n",
    "    PyObject **f_valuestack;    /* points after the last local */\n",
    "    PyObject **f_stacktop;\n",
    "    PyObject *f_trace;      /* Trace function */\n",
    "    PyObject *f_exc_type, *f_exc_value, *f_exc_traceback;\n",
    "    PyThreadState *f_tstate;\n",
    "    int f_lasti;        /* Last instruction if called */\n",
    "    int f_lineno;       /* Current line number */\n",
    "    int f_iblock;       /* index in f_blockstack */\n",
    "    PyTryBlock f_blockstack[CO_MAXBLOCKS]; /* for try and loop blocks */\n",
    "    PyObject *f_localsplus[1];  /* locals+stack, dynamically sized */\n",
    "} PyFrameObject;\n",
    "```"
   ]
  },
  {
   "cell_type": "markdown",
   "metadata": {
    "slideshow": {
     "slide_type": "subslide"
    }
   },
   "source": [
    "### Call stack (C)\n",
    "\n",
    "![typical call stack](images/Call_stack_layout.png \"Typical Call Stack\")"
   ]
  },
  {
   "cell_type": "markdown",
   "metadata": {
    "slideshow": {
     "slide_type": "subslide"
    }
   },
   "source": [
    "### Call stack (Python)\n",
    "![call stack python](images/frame.png \"Call Stack (Python)\")"
   ]
  },
  {
   "cell_type": "markdown",
   "metadata": {
    "slideshow": {
     "slide_type": "subslide"
    }
   },
   "source": [
    "### A code block is executed in an execution frame"
   ]
  },
  {
   "cell_type": "markdown",
   "metadata": {
    "slideshow": {
     "slide_type": "fragment"
    }
   },
   "source": [
    "Proof."
   ]
  },
  {
   "cell_type": "code",
   "execution_count": 2,
   "metadata": {
    "slideshow": {
     "slide_type": "fragment"
    }
   },
   "outputs": [
    {
     "data": {
      "text/plain": [
       "True"
      ]
     },
     "execution_count": 2,
     "metadata": {},
     "output_type": "execute_result"
    }
   ],
   "source": [
    "import inspect\n",
    "\n",
    "# get the code object by compiling\n",
    "code = compile(\"\"\"exec_frame = inspect.currentframe()\"\"\", \"<string>\", \"exec\")\n",
    "\n",
    "# execute the code to get the exec_frame\n",
    "exec(code)\n",
    "\n",
    "# check if the executed code in the exec_frame is the preceding code object.\n",
    "exec_frame.f_code is code"
   ]
  },
  {
   "cell_type": "code",
   "execution_count": 18,
   "metadata": {
    "scrolled": false,
    "slideshow": {
     "slide_type": "subslide"
    }
   },
   "outputs": [
    {
     "name": "stdout",
     "output_type": "stream",
     "text": [
      "[{'back': <frame object at 0x10bfd37f0>},\n",
      " {'code': <code object <module> at 0x10bfa0a30, file \"<string>\", line 1>},\n",
      " {'exc_traceback': None, 'exc_type': None, 'exc_value': None},\n",
      " {'builtins': 4466004328, 'globals': 4494990984, 'locals': 4494990984},\n",
      " {'stack': [('/usr/local/Cellar/python/2.7.14/Frameworks/Python.framework/Versions/2.7/lib/python2.7/runpy.py',\n",
      "             174,\n",
      "             '_run_module_as_main',\n",
      "             '\"__main__\", fname, loader, pkg_name)'),\n",
      "            ('/usr/local/Cellar/python/2.7.14/Frameworks/Python.framework/Versions/2.7/lib/python2.7/runpy.py',\n",
      "             72,\n",
      "             '_run_code',\n",
      "             'exec code in run_globals'),\n",
      "            ('/usr/local/lib/python2.7/site-packages/ipykernel_launcher.py',\n",
      "             16,\n",
      "             '<module>',\n",
      "             'app.launch_new_instance()'),\n",
      "            ('/usr/local/lib/python2.7/site-packages/traitlets/config/application.py',\n",
      "             658,\n",
      "             'launch_instance',\n",
      "             'app.start()'),\n",
      "            ('/usr/local/lib/python2.7/site-packages/ipykernel/kernelapp.py',\n",
      "             486,\n",
      "             'start',\n",
      "             'self.io_loop.start()'),\n",
      "            ('/usr/local/lib/python2.7/site-packages/tornado/ioloop.py',\n",
      "             1065,\n",
      "             'start',\n",
      "             'handler_func(fd_obj, events)'),\n",
      "            ('/usr/local/lib/python2.7/site-packages/tornado/stack_context.py',\n",
      "             278,\n",
      "             'null_wrapper',\n",
      "             '_state.contexts = current_state'),\n",
      "            ('/usr/local/lib/python2.7/site-packages/zmq/eventloop/zmqstream.py',\n",
      "             463,\n",
      "             '_handle_events',\n",
      "             'raise'),\n",
      "            ('/usr/local/lib/python2.7/site-packages/zmq/eventloop/zmqstream.py',\n",
      "             480,\n",
      "             '_handle_recv',\n",
      "             'self._run_callback(callback, msg)'),\n",
      "            ('/usr/local/lib/python2.7/site-packages/zmq/eventloop/zmqstream.py',\n",
      "             438,\n",
      "             '_run_callback',\n",
      "             'raise'),\n",
      "            ('/usr/local/lib/python2.7/site-packages/tornado/stack_context.py',\n",
      "             278,\n",
      "             'null_wrapper',\n",
      "             '_state.contexts = current_state'),\n",
      "            ('/usr/local/lib/python2.7/site-packages/ipykernel/kernelbase.py',\n",
      "             283,\n",
      "             'dispatcher',\n",
      "             'return self.dispatch_shell(stream, msg)'),\n",
      "            ('/usr/local/lib/python2.7/site-packages/ipykernel/kernelbase.py',\n",
      "             241,\n",
      "             'dispatch_shell',\n",
      "             \"self._publish_status(u'idle')\"),\n",
      "            ('/usr/local/lib/python2.7/site-packages/ipykernel/kernelbase.py',\n",
      "             421,\n",
      "             'execute_request',\n",
      "             'self._abort_queues()'),\n",
      "            ('/usr/local/lib/python2.7/site-packages/ipykernel/ipkernel.py',\n",
      "             258,\n",
      "             'do_execute',\n",
      "             'return reply_content'),\n",
      "            ('/usr/local/lib/python2.7/site-packages/ipykernel/zmqshell.py',\n",
      "             537,\n",
      "             'run_cell',\n",
      "             'return super(ZMQInteractiveShell, self).run_cell(*args, **kwargs)'),\n",
      "            ('/usr/local/lib/python2.7/site-packages/IPython/core/interactiveshell.py',\n",
      "             2737,\n",
      "             'run_cell',\n",
      "             'return result'),\n",
      "            ('/usr/local/lib/python2.7/site-packages/IPython/core/interactiveshell.py',\n",
      "             2850,\n",
      "             'run_ast_nodes',\n",
      "             'return False'),\n",
      "            ('/usr/local/lib/python2.7/site-packages/IPython/core/interactiveshell.py',\n",
      "             2902,\n",
      "             'run_code',\n",
      "             'return outflag'),\n",
      "            ('<ipython-input-17-bef013c441f0>',\n",
      "             3,\n",
      "             '<module>',\n",
      "             u'exec(code)'),\n",
      "            ('<string>', 1, '<module>', None)]}]\n"
     ]
    }
   ],
   "source": [
    "# frame structure.\n",
    "import helper\n",
    "helper.print_frame(exc_frame)"
   ]
  },
  {
   "cell_type": "markdown",
   "metadata": {
    "slideshow": {
     "slide_type": "subslide"
    }
   },
   "source": [
    "### Linked list of frames"
   ]
  },
  {
   "cell_type": "code",
   "execution_count": 36,
   "metadata": {
    "slideshow": {
     "slide_type": "fragment"
    }
   },
   "outputs": [
    {
     "name": "stdout",
     "output_type": "stream",
     "text": [
      "  1           0 LOAD_NAME                0 (inspect)\n",
      "              3 LOAD_ATTR                1 (currentframe)\n",
      "              6 CALL_FUNCTION            0\n",
      "              9 STORE_NAME               2 (exc_frame)\n",
      "             12 LOAD_CONST               0 (None)\n",
      "             15 RETURN_VALUE        \n"
     ]
    }
   ],
   "source": [
    "exec(\"exc_frame = inspect.currentframe()\")\n",
    "dis.dis(exc_frame.f_code)"
   ]
  },
  {
   "cell_type": "code",
   "execution_count": 37,
   "metadata": {
    "slideshow": {
     "slide_type": "fragment"
    }
   },
   "outputs": [
    {
     "name": "stdout",
     "output_type": "stream",
     "text": [
      "  1           0 LOAD_CONST               0 ('exc_frame = inspect.currentframe()')\n",
      "              3 LOAD_CONST               1 (None)\n",
      "              6 DUP_TOP             \n",
      "              7 EXEC_STMT           \n",
      "              8 LOAD_CONST               1 (None)\n",
      "             11 RETURN_VALUE        \n"
     ]
    }
   ],
   "source": [
    "dis.dis(exc_frame.f_back.f_code)"
   ]
  },
  {
   "cell_type": "markdown",
   "metadata": {
    "slideshow": {
     "slide_type": "slide"
    }
   },
   "source": [
    "## Control flow & Exceptions"
   ]
  },
  {
   "cell_type": "markdown",
   "metadata": {
    "slideshow": {
     "slide_type": "subslide"
    }
   },
   "source": [
    "### ***Exception*** Definition in natural language\n",
    "Exceptions are a means of breaking out of the normal <em style=\"color: blue\">flow of control</em> of a code block in order to handle errors or other exceptional conditions."
   ]
  },
  {
   "cell_type": "markdown",
   "metadata": {
    "slideshow": {
     "slide_type": "fragment"
    }
   },
   "source": [
    "*<em style=\"color: green\">I would like to talk about 'the flow of control' which is implemented in same mechanism instead of the exceptions only.</em>*"
   ]
  },
  {
   "cell_type": "markdown",
   "metadata": {
    "slideshow": {
     "slide_type": "fragment"
    }
   },
   "source": [
    "*<em style=\"color: green\">For the simple control flow, please try to compile and disassemble the code by yourself.</em>*"
   ]
  },
  {
   "cell_type": "markdown",
   "metadata": {
    "slideshow": {
     "slide_type": "subslide"
    }
   },
   "source": [
    "### PyTryBlock\n",
    "```c\n",
    "// https://github.com/python/cpython/blob/2.7/Include/frameobject.h#L10\n",
    "typedef struct {\n",
    "    int b_type;                 /* what kind of block this is */\n",
    "    int b_handler;              /* where to jump to find handler */\n",
    "    int b_level;                /* value stack level to pop to */\n",
    "} PyTryBlock;\n",
    "```"
   ]
  },
  {
   "cell_type": "markdown",
   "metadata": {
    "slideshow": {
     "slide_type": "fragment"
    }
   },
   "source": [
    "### PyFrameObject Recap\n",
    "```c\n",
    "// https://github.com/python/cpython/blob/2.7/Include/frameobject.h#L16\n",
    "typedef struct _frame {\n",
    "    /* ... */\n",
    "    int f_iblock;       /* index in f_blockstack */\n",
    "    PyTryBlock f_blockstack[CO_MAXBLOCKS]; /* for try and loop blocks */\n",
    "    /* ... */\n",
    "} PyFrameObject;\n",
    "```"
   ]
  },
  {
   "cell_type": "markdown",
   "metadata": {
    "slideshow": {
     "slide_type": "subslide"
    }
   },
   "source": [
    "### PyFrame_BlockSetup\n",
    "```c\n",
    "// https://github.com/python/cpython/blob/2.7/Objects/frameobject.c#L748\n",
    "void\n",
    "PyFrame_BlockSetup(PyFrameObject *f, int type, int handler, int level)\n",
    "{\n",
    "    PyTryBlock *b;\n",
    "    if (f->f_iblock >= CO_MAXBLOCKS)\n",
    "        Py_FatalError(\"XXX block stack overflow\");\n",
    "    b = &f->f_blockstack[f->f_iblock++];\n",
    "    b->b_type = type;\n",
    "    b->b_level = level;\n",
    "    b->b_handler = handler;\n",
    "}\n",
    "```"
   ]
  },
  {
   "cell_type": "markdown",
   "metadata": {
    "slideshow": {
     "slide_type": "subslide"
    }
   },
   "source": [
    "### for loop"
   ]
  },
  {
   "cell_type": "code",
   "execution_count": 38,
   "metadata": {
    "scrolled": true,
    "slideshow": {
     "slide_type": "subslide"
    }
   },
   "outputs": [
    {
     "name": "stdout",
     "output_type": "stream",
     "text": [
      "  2           0 SETUP_LOOP              46 (to 49)\n",
      "              3 LOAD_NAME                0 (range)\n",
      "              6 LOAD_CONST               0 (10)\n",
      "              9 CALL_FUNCTION            1\n",
      "             12 GET_ITER            \n",
      "        >>   13 FOR_ITER                27 (to 43)\n",
      "             16 STORE_NAME               1 (i)\n",
      "\n",
      "  3          19 LOAD_NAME                1 (i)\n",
      "             22 LOAD_CONST               1 (0)\n",
      "             25 COMPARE_OP               0 (<)\n",
      "             28 POP_JUMP_IF_FALSE       35\n",
      "\n",
      "  4          31 BREAK_LOOP          \n",
      "             32 JUMP_FORWARD             0 (to 35)\n",
      "\n",
      "  5     >>   35 LOAD_NAME                1 (i)\n",
      "             38 PRINT_ITEM          \n",
      "             39 PRINT_NEWLINE       \n",
      "             40 JUMP_ABSOLUTE           13\n",
      "        >>   43 POP_BLOCK           \n",
      "\n",
      "  7          44 LOAD_CONST               2 ('no break')\n",
      "             47 PRINT_ITEM          \n",
      "             48 PRINT_NEWLINE       \n",
      "        >>   49 LOAD_CONST               3 (None)\n",
      "             52 RETURN_VALUE        \n"
     ]
    }
   ],
   "source": [
    "# SETUP_LOOP: https://github.com/python/cpython/blob/2.7/Python/ceval.c#L2865\n",
    "# FOR_ITER: https://github.com/python/cpython/blob/2.7/Python/ceval.c#L2823\n",
    "# BREAK_LOOP: https://github.com/python/cpython/blob/2.7/Python/ceval.c#L3248\n",
    "import dis\n",
    "code = compile(\"\"\"\n",
    "for i in range(10):\n",
    "    if i < 0:\n",
    "        break\n",
    "    print(i)\n",
    "else:\n",
    "    print(\"no break\")\"\"\", \"<string>\", \"exec\")\n",
    "dis.dis(code)"
   ]
  },
  {
   "cell_type": "markdown",
   "metadata": {
    "slideshow": {
     "slide_type": "subslide"
    }
   },
   "source": [
    "### try ... except statement"
   ]
  },
  {
   "cell_type": "code",
   "execution_count": 40,
   "metadata": {
    "scrolled": true,
    "slideshow": {
     "slide_type": "subslide"
    }
   },
   "outputs": [
    {
     "name": "stdout",
     "output_type": "stream",
     "text": [
      "  1           0 SETUP_FINALLY           64 (to 67)\n",
      "              3 SETUP_EXCEPT            12 (to 18)\n",
      "\n",
      "  2           6 LOAD_CONST               0 (1)\n",
      "              9 LOAD_CONST               1 (0)\n",
      "             12 BINARY_DIVIDE       \n",
      "             13 POP_TOP             \n",
      "             14 POP_BLOCK           \n",
      "             15 JUMP_FORWARD            45 (to 63)\n",
      "\n",
      "  3     >>   18 DUP_TOP             \n",
      "             19 LOAD_NAME                0 (NameError)\n",
      "             22 COMPARE_OP              10 (exception match)\n",
      "             25 POP_JUMP_IF_FALSE       39\n",
      "             28 POP_TOP             \n",
      "             29 POP_TOP             \n",
      "             30 POP_TOP             \n",
      "\n",
      "  4          31 LOAD_CONST               2 ('should not be NameError')\n",
      "             34 PRINT_ITEM          \n",
      "             35 PRINT_NEWLINE       \n",
      "             36 JUMP_FORWARD            24 (to 63)\n",
      "\n",
      "  5     >>   39 DUP_TOP             \n",
      "             40 LOAD_NAME                1 (Exception)\n",
      "             43 COMPARE_OP              10 (exception match)\n",
      "             46 POP_JUMP_IF_FALSE       62\n",
      "             49 POP_TOP             \n",
      "             50 STORE_NAME               2 (e)\n",
      "             53 POP_TOP             \n",
      "\n",
      "  6          54 LOAD_NAME                2 (e)\n",
      "             57 PRINT_ITEM          \n",
      "             58 PRINT_NEWLINE       \n",
      "             59 JUMP_FORWARD             1 (to 63)\n",
      "        >>   62 END_FINALLY         \n",
      "        >>   63 POP_BLOCK           \n",
      "             64 LOAD_CONST               3 (None)\n",
      "\n",
      "  8     >>   67 LOAD_CONST               4 ('finally end')\n",
      "             70 PRINT_ITEM          \n",
      "             71 PRINT_NEWLINE       \n",
      "             72 END_FINALLY         \n",
      "             73 LOAD_CONST               3 (None)\n",
      "             76 RETURN_VALUE        \n"
     ]
    }
   ],
   "source": [
    "# SETUP_FINALLY, SETUP_EXCEPT: https://github.com/python/cpython/blob/2.7/Python/ceval.c#L2865\n",
    "import dis\n",
    "code = compile(\"\"\"try:\n",
    "    1/0\n",
    "except NameError:\n",
    "    print(\"should not be NameError\")\n",
    "except Exception as e:\n",
    "    print(e)\n",
    "finally:\n",
    "    print(\"finally end\")\"\"\", \"<string>\", \"exec\")\n",
    "dis.dis(code)"
   ]
  },
  {
   "cell_type": "markdown",
   "metadata": {
    "slideshow": {
     "slide_type": "subslide"
    }
   },
   "source": [
    "### with statement"
   ]
  },
  {
   "cell_type": "code",
   "execution_count": 39,
   "metadata": {
    "slideshow": {
     "slide_type": "subslide"
    }
   },
   "outputs": [
    {
     "name": "stdout",
     "output_type": "stream",
     "text": [
      "  1           0 LOAD_NAME                0 (open)\n",
      "              3 LOAD_CONST               0 ('q3/a.py')\n",
      "              6 CALL_FUNCTION            1\n",
      "              9 SETUP_WITH              18 (to 30)\n",
      "             12 STORE_NAME               1 (f)\n",
      "\n",
      "  2          15 LOAD_NAME                1 (f)\n",
      "             18 LOAD_ATTR                2 (read)\n",
      "             21 CALL_FUNCTION            0\n",
      "             24 PRINT_ITEM          \n",
      "             25 PRINT_NEWLINE       \n",
      "             26 POP_BLOCK           \n",
      "             27 LOAD_CONST               1 (None)\n",
      "        >>   30 WITH_CLEANUP        \n",
      "             31 END_FINALLY         \n",
      "             32 LOAD_CONST               1 (None)\n",
      "             35 RETURN_VALUE        \n"
     ]
    }
   ],
   "source": [
    "# SETUP_WITH: https://github.com/python/cpython/blob/2.7/Python/ceval.c#L2882\n",
    "# WITH_CLEANUP: https://github.com/python/cpython/blob/2.7/Python/ceval.c#L2913\n",
    "import dis\n",
    "code = compile(\"\"\"with open('q3/a.py') as f:\n",
    "    print(f.read())\"\"\", \"<string>\", \"exec\")\n",
    "dis.dis(code)"
   ]
  },
  {
   "cell_type": "markdown",
   "metadata": {
    "slideshow": {
     "slide_type": "subslide"
    }
   },
   "source": [
    "### Python Exception mechanism\n",
    "If an exception is raised, Python Interpreter will push the exc_traceback, exc_value and exc_type on the frame stack and handle it by calling block handler. https://github.com/python/cpython/blob/2.7/Python/ceval.c#L3257"
   ]
  },
  {
   "cell_type": "markdown",
   "metadata": {
    "slideshow": {
     "slide_type": "skip"
    }
   },
   "source": [
    "- PyEval_EvalFrameEx: \n",
    "    \n",
    "    - PyEval_EvalFrameEx function: https://github.com/python/cpython/blob/2.7/Python/ceval.c#L688 \n",
    "    - How to handle exceptions: https://github.com/python/cpython/blob/2.7/Python/ceval.c#L3257\n",
    "    \n",
    "- PyErr_Fetch: Fetch exception info from ThreadState https://github.com/python/cpython/blob/2.7/Python/errors.c#L243\n",
    "- set_exc_info: https://github.com/python/cpython/blob/2.7/Python/ceval.c#L3718"
   ]
  },
  {
   "cell_type": "markdown",
   "metadata": {
    "slideshow": {
     "slide_type": "slide"
    }
   },
   "source": [
    "## Global interpreter lock(GIL)"
   ]
  },
  {
   "cell_type": "markdown",
   "metadata": {
    "slideshow": {
     "slide_type": "subslide"
    }
   },
   "source": [
    "```c\n",
    "https://github.com/python/cpython/blob/2.7/Python/ceval.c#L238\n",
    "static PyThread_type_lock interpreter_lock = 0; /* This is the GIL */\n",
    "```"
   ]
  },
  {
   "cell_type": "markdown",
   "metadata": {
    "slideshow": {
     "slide_type": "subslide"
    }
   },
   "source": [
    "```c\n",
    "// https://github.com/python/cpython/blob/2.7/Python/ceval.c#L1117\n",
    "#ifdef WITH_THREAD\n",
    "            if (interpreter_lock) {\n",
    "                /* Give another thread a chance */\n",
    "                if (PyThreadState_Swap(NULL) != tstate)\n",
    "                    Py_FatalError(\"ceval: tstate mix-up\");\n",
    "                PyThread_release_lock(interpreter_lock);\n",
    "                PyThread_acquire_lock(interpreter_lock, 1);\n",
    "                if (PyThreadState_Swap(tstate) != NULL)\n",
    "                    Py_FatalError(\"ceval: orphan tstate\");\n",
    "                /* Check for thread interrupts */\n",
    "                /* ... */\n",
    "            }\n",
    "#endif\n",
    "```"
   ]
  },
  {
   "cell_type": "markdown",
   "metadata": {
    "slideshow": {
     "slide_type": "subslide"
    }
   },
   "source": [
    "### PyThreadState_Swap\n",
    "```c\n",
    "// https://github.com/python/cpython/blob/2.7/Python/pystate.c#L336\n",
    "PyThreadState *\n",
    "PyThreadState_Swap(PyThreadState *newts)\n",
    "{\n",
    "    PyThreadState *oldts = _PyThreadState_Current;\n",
    "\n",
    "    _PyThreadState_Current = newts;\n",
    "    /* It should not be possible for more than one thread state\n",
    "       to be used for a thread.  Check this the best we can in debug\n",
    "       builds.\n",
    "    */\n",
    "#if defined(Py_DEBUG) && defined(WITH_THREAD)\n",
    "    if (newts) {\n",
    "        /* This can be called from PyEval_RestoreThread(). Similar\n",
    "           to it, we need to ensure errno doesn't change.\n",
    "        */\n",
    "        int err = errno;\n",
    "        PyThreadState *check = PyGILState_GetThisThreadState();\n",
    "        if (check && check->interp == newts->interp && check != newts)\n",
    "            Py_FatalError(\"Invalid thread state for this thread\");\n",
    "        errno = err;\n",
    "    }\n",
    "#endif\n",
    "    return oldts;\n",
    "}\n",
    "```"
   ]
  },
  {
   "cell_type": "markdown",
   "metadata": {
    "slideshow": {
     "slide_type": "subslide"
    }
   },
   "source": [
    "### Will one busy thread block others to execute?"
   ]
  },
  {
   "cell_type": "code",
   "execution_count": 44,
   "metadata": {
    "slideshow": {
     "slide_type": "fragment"
    }
   },
   "outputs": [
    {
     "name": "stdout",
     "output_type": "stream",
     "text": [
      "start loop.\n",
      "urgent_task executed.\n"
     ]
    },
    {
     "data": {
      "text/plain": [
       "(None, None)"
      ]
     },
     "execution_count": 44,
     "metadata": {},
     "output_type": "execute_result"
    },
    {
     "name": "stdout",
     "output_type": "stream",
     "text": [
      "end loop.\n"
     ]
    }
   ],
   "source": [
    "import threading\n",
    "\n",
    "def busy_loop():\n",
    "    print(\"start loop.\")\n",
    "    for i in xrange(10000000):\n",
    "        pass\n",
    "    print(\"end loop.\")\n",
    "    \n",
    "def urgent_task():\n",
    "    print(\"urgent_task executed.\")\n",
    "    \n",
    "t1 = threading.Thread(target=busy_loop)\n",
    "t2 = threading.Thread(target=urgent_task)\n",
    "\n",
    "t1.start(), t2.start()"
   ]
  },
  {
   "cell_type": "markdown",
   "metadata": {
    "slideshow": {
     "slide_type": "subslide"
    }
   },
   "source": [
    "### _Py_Ticker & _Py_CheckInterval"
   ]
  },
  {
   "cell_type": "markdown",
   "metadata": {
    "slideshow": {
     "slide_type": "fragment"
    }
   },
   "source": [
    "```c\n",
    "// https://github.com/python/cpython/blob/2.7/Python/ceval.c#L661\n",
    "/* for manipulating the thread switch and periodic \"stuff\" - used to be\n",
    "   per thread, now just a pair o' globals */\n",
    "int _Py_CheckInterval = 100;\n",
    "volatile int _Py_Ticker = 0; /* so that we hit a \"tick\" first thing */\n",
    "```"
   ]
  },
  {
   "cell_type": "markdown",
   "metadata": {
    "slideshow": {
     "slide_type": "subslide"
    }
   },
   "source": [
    "```c\n",
    "// https://github.com/python/cpython/blob/2.7/Python/ceval.c#L1094\n",
    "        if (--_Py_Ticker < 0) {\n",
    "            if (*next_instr == SETUP_FINALLY) {\n",
    "                /* Make the last opcode before\n",
    "                   a try: finally: block uninterruptible. */\n",
    "                goto fast_next_opcode;\n",
    "            }\n",
    "            _Py_Ticker = _Py_CheckInterval;\n",
    "            tstate->tick_counter++;\n",
    "// https://en.wikipedia.org/wiki/Time_Stamp_Counter\n",
    "#ifdef WITH_TSC\n",
    "            ticked = 1;\n",
    "#endif\n",
    "            if (pendingcalls_to_do) {\n",
    "                if (Py_MakePendingCalls() < 0) {\n",
    "                    why = WHY_EXCEPTION;\n",
    "                    goto on_error;\n",
    "                }\n",
    "                if (pendingcalls_to_do)\n",
    "                    /* MakePendingCalls() didn't succeed.\n",
    "                       Force early re-execution of this\n",
    "                       \"periodic\" code, possibly after\n",
    "                       a thread switch */\n",
    "                    _Py_Ticker = 0;\n",
    "            }\n",
    "#ifdef WITH_THREAD\n",
    "            if (interpreter_lock) {\n",
    "                /* GIL \"stuff\" */\n",
    "            }\n",
    "#endif\n",
    "        }\n",
    "```"
   ]
  },
  {
   "cell_type": "markdown",
   "metadata": {
    "slideshow": {
     "slide_type": "slide"
    }
   },
   "source": [
    "### Execution Model Recap ☕️"
   ]
  },
  {
   "cell_type": "markdown",
   "metadata": {
    "slideshow": {
     "slide_type": "fragment"
    }
   },
   "source": [
    "A block is a piece of Python program text that is executed as a unit."
   ]
  },
  {
   "cell_type": "markdown",
   "metadata": {
    "slideshow": {
     "slide_type": "fragment"
    }
   },
   "source": [
    "A code block is executed in an execution frame."
   ]
  },
  {
   "cell_type": "markdown",
   "metadata": {
    "slideshow": {
     "slide_type": "fragment"
    }
   },
   "source": [
    "Names refer to objects. Names are introduced by name binding operations."
   ]
  },
  {
   "cell_type": "markdown",
   "metadata": {
    "slideshow": {
     "slide_type": "fragment"
    }
   },
   "source": [
    "The Python interpreter is not fully thread-safe. In order to support multi-threaded Python programs, there’s a global lock, called the global interpreter lock or GIL, that must be held by the current thread before it can safely access Python objects."
   ]
  },
  {
   "cell_type": "markdown",
   "metadata": {
    "slideshow": {
     "slide_type": "fragment"
    }
   },
   "source": [
    "In order to emulate concurrency of execution, the interpreter regularly tries to switch threads (see sys.setcheckinterval()). The lock is also released around potentially blocking I/O operations like reading or writing a file, so that other Python threads can run in the meantime."
   ]
  },
  {
   "cell_type": "markdown",
   "metadata": {
    "slideshow": {
     "slide_type": "slide"
    }
   },
   "source": [
    "## Top-level components"
   ]
  },
  {
   "cell_type": "markdown",
   "metadata": {
    "slideshow": {
     "slide_type": "subslide"
    }
   },
   "source": [
    "### Implementation details\n",
    "https://wiki.python.org/moin/CPythonInterpreterInitialization"
   ]
  },
  {
   "cell_type": "markdown",
   "metadata": {
    "slideshow": {
     "slide_type": "subslide"
    }
   },
   "source": [
    "A complete Python program is executed in <em style=\"color: blue\">a minimally initialized environment</em>: all built-in and standard modules are available, but none have been initialized, except for sys (various system services), `__builtin__` (built-in functions, exceptions and None) and `__main__`. The latter is used to provide the local and global namespace for execution of the complete program."
   ]
  },
  {
   "cell_type": "code",
   "execution_count": 1,
   "metadata": {
    "slideshow": {
     "slide_type": "fragment"
    }
   },
   "outputs": [
    {
     "name": "stdout",
     "output_type": "stream",
     "text": [
      "{'__builtins__': <module '__builtin__' (built-in)>, '__name__': '__main__', '__doc__': None, '__package__': None}\n",
      "\n"
     ]
    }
   ],
   "source": [
    "import subprocess\n",
    "print(subprocess.check_output(\"\"\"python -c 'print(globals())'\"\"\", shell=True, stderr=subprocess.STDOUT))"
   ]
  },
  {
   "cell_type": "markdown",
   "metadata": {
    "slideshow": {
     "slide_type": "subslide"
    }
   },
   "source": [
    "The interpreter may also be invoked in interactive mode; in this case, it does not read and execute a complete program but reads and executes one statement (possibly compound) at a time. The initial environment is identical to that of a complete program; each statement is executed in the namespace of `__main__`."
   ]
  },
  {
   "cell_type": "code",
   "execution_count": 2,
   "metadata": {
    "slideshow": {
     "slide_type": "fragment"
    }
   },
   "outputs": [
    {
     "name": "stdout",
     "output_type": "stream",
     "text": [
      "True\n"
     ]
    }
   ],
   "source": [
    "import __main__\n",
    "print(__main__.__dict__ is globals())"
   ]
  },
  {
   "cell_type": "code",
   "execution_count": 3,
   "metadata": {
    "slideshow": {
     "slide_type": "fragment"
    }
   },
   "outputs": [
    {
     "name": "stdout",
     "output_type": "stream",
     "text": [
      "True\n"
     ]
    }
   ],
   "source": [
    "exec(\"import __main__\\nprint(__main__.__dict__ is globals())\")"
   ]
  },
  {
   "cell_type": "code",
   "execution_count": 4,
   "metadata": {
    "slideshow": {
     "slide_type": "fragment"
    }
   },
   "outputs": [
    {
     "name": "stdout",
     "output_type": "stream",
     "text": [
      "True\n",
      "\n"
     ]
    }
   ],
   "source": [
    "import subprocess\n",
    "print(subprocess.check_output(\"\"\"python -c 'import __main__\\nprint(__main__.__dict__ is globals())'\"\"\", shell=True, stderr=subprocess.STDOUT))"
   ]
  },
  {
   "cell_type": "markdown",
   "metadata": {
    "slideshow": {
     "slide_type": "subslide"
    }
   },
   "source": [
    "Under Unix, a complete program can be passed to the interpreter in three forms: with the -c string command line option, as a file passed as the first command line argument, or as standard input. If the file or standard input is a tty device, the interpreter enters interactive mode; otherwise, it executes the file as a complete program."
   ]
  },
  {
   "cell_type": "code",
   "execution_count": 6,
   "metadata": {
    "slideshow": {
     "slide_type": "fragment"
    }
   },
   "outputs": [
    {
     "name": "stdout",
     "output_type": "stream",
     "text": [
      "sys.version_info(major=2, minor=7, micro=14, releaselevel='final', serial=0)\n",
      "\n"
     ]
    }
   ],
   "source": [
    "# run as shell command `python q3/a.py`\n",
    "import subprocess\n",
    "print(subprocess.check_output(\"echo 'import sys\\nprint(sys.version_info)' | python; exit 0\", shell=True, stderr=subprocess.STDOUT))"
   ]
  },
  {
   "cell_type": "code",
   "execution_count": 7,
   "metadata": {
    "slideshow": {
     "slide_type": "fragment"
    }
   },
   "outputs": [
    {
     "name": "stdout",
     "output_type": "stream",
     "text": [
      ">>> \n",
      "\n"
     ]
    }
   ],
   "source": [
    "import subprocess\n",
    "print(subprocess.check_output(\"python /dev/ttys000; exit 0\", shell=True, stderr=subprocess.STDOUT))"
   ]
  },
  {
   "cell_type": "markdown",
   "metadata": {
    "slideshow": {
     "slide_type": "slide"
    }
   },
   "source": [
    "## References\n",
    "https://opensource.com/article/17/4/grok-gil"
   ]
  },
  {
   "cell_type": "markdown",
   "metadata": {
    "slideshow": {
     "slide_type": "slide"
    }
   },
   "source": [
    "# Thanks!"
   ]
  }
 ],
 "metadata": {
  "celltoolbar": "Slideshow",
  "kernelspec": {
   "display_name": "Python 2",
   "language": "python",
   "name": "python2"
  },
  "language_info": {
   "codemirror_mode": {
    "name": "ipython",
    "version": 2
   },
   "file_extension": ".py",
   "mimetype": "text/x-python",
   "name": "python",
   "nbconvert_exporter": "python",
   "pygments_lexer": "ipython2",
   "version": "2.7.15"
  }
 },
 "nbformat": 4,
 "nbformat_minor": 2
}
